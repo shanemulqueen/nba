{
 "cells": [
  {
   "cell_type": "code",
   "execution_count": 20,
   "metadata": {},
   "outputs": [],
   "source": [
    "from collections import Counter\n",
    "from flask import Flask, request, render_template, jsonify\n",
    "import pickle\n",
    "import pandas as pd\n",
    "from matplotlib import pyplot as plt\n",
    "import numpy as np\n",
    "import requests\n",
    "import re\n",
    "from bs4 import BeautifulSoup\n",
    "import argparse\n",
    "import time\n",
    "from splinter import Browser\n",
    "import time\n",
    "from collections import defaultdict\n",
    "import json\n",
    "import re"
   ]
  },
  {
   "cell_type": "code",
   "execution_count": 10,
   "metadata": {},
   "outputs": [],
   "source": [
    "data = pd.read_csv(\"data/bb_reference/2016to2019Data_merged.csv\", encoding = 'latin-1')"
   ]
  },
  {
   "cell_type": "code",
   "execution_count": 4,
   "metadata": {},
   "outputs": [],
   "source": [
    "salary_data = pd.read_csv('data/salary_data_dk.csv')"
   ]
  },
  {
   "cell_type": "code",
   "execution_count": 11,
   "metadata": {},
   "outputs": [
    {
     "ename": "TypeError",
     "evalue": "Index does not support mutable operations",
     "output_type": "error",
     "traceback": [
      "\u001b[0;31m---------------------------------------------------------------------------\u001b[0m",
      "\u001b[0;31mTypeError\u001b[0m                                 Traceback (most recent call last)",
      "\u001b[0;32m<ipython-input-11-fa977272a320>\u001b[0m in \u001b[0;36m<module>\u001b[0;34m\u001b[0m\n\u001b[1;32m      1\u001b[0m \u001b[0mdata\u001b[0m \u001b[0;34m=\u001b[0m \u001b[0mdata\u001b[0m\u001b[0;34m.\u001b[0m\u001b[0mdrop\u001b[0m\u001b[0;34m(\u001b[0m\u001b[0;34m[\u001b[0m\u001b[0;34m'Unnamed: 0_y'\u001b[0m\u001b[0;34m,\u001b[0m\u001b[0;34m'Unnamed: 0'\u001b[0m\u001b[0;34m]\u001b[0m\u001b[0;34m,\u001b[0m \u001b[0maxis\u001b[0m \u001b[0;34m=\u001b[0m \u001b[0;36m1\u001b[0m\u001b[0;34m)\u001b[0m\u001b[0;34m\u001b[0m\u001b[0;34m\u001b[0m\u001b[0m\n\u001b[0;32m----> 2\u001b[0;31m \u001b[0mdata\u001b[0m\u001b[0;34m.\u001b[0m\u001b[0mcolumns\u001b[0m\u001b[0;34m[\u001b[0m\u001b[0;36m1\u001b[0m\u001b[0;34m]\u001b[0m\u001b[0;34m=\u001b[0m \u001b[0;34m'gamescore_rank'\u001b[0m\u001b[0;34m\u001b[0m\u001b[0;34m\u001b[0m\u001b[0m\n\u001b[0m",
      "\u001b[0;32m~/anaconda3/lib/python3.7/site-packages/pandas/core/indexes/base.py\u001b[0m in \u001b[0;36m__setitem__\u001b[0;34m(self, key, value)\u001b[0m\n\u001b[1;32m   3936\u001b[0m \u001b[0;34m\u001b[0m\u001b[0m\n\u001b[1;32m   3937\u001b[0m     \u001b[0;32mdef\u001b[0m \u001b[0m__setitem__\u001b[0m\u001b[0;34m(\u001b[0m\u001b[0mself\u001b[0m\u001b[0;34m,\u001b[0m \u001b[0mkey\u001b[0m\u001b[0;34m,\u001b[0m \u001b[0mvalue\u001b[0m\u001b[0;34m)\u001b[0m\u001b[0;34m:\u001b[0m\u001b[0;34m\u001b[0m\u001b[0;34m\u001b[0m\u001b[0m\n\u001b[0;32m-> 3938\u001b[0;31m         \u001b[0;32mraise\u001b[0m \u001b[0mTypeError\u001b[0m\u001b[0;34m(\u001b[0m\u001b[0;34m\"Index does not support mutable operations\"\u001b[0m\u001b[0;34m)\u001b[0m\u001b[0;34m\u001b[0m\u001b[0;34m\u001b[0m\u001b[0m\n\u001b[0m\u001b[1;32m   3939\u001b[0m \u001b[0;34m\u001b[0m\u001b[0m\n\u001b[1;32m   3940\u001b[0m     \u001b[0;32mdef\u001b[0m \u001b[0m__getitem__\u001b[0m\u001b[0;34m(\u001b[0m\u001b[0mself\u001b[0m\u001b[0;34m,\u001b[0m \u001b[0mkey\u001b[0m\u001b[0;34m)\u001b[0m\u001b[0;34m:\u001b[0m\u001b[0;34m\u001b[0m\u001b[0;34m\u001b[0m\u001b[0m\n",
      "\u001b[0;31mTypeError\u001b[0m: Index does not support mutable operations"
     ]
    }
   ],
   "source": [
    "data = data.drop(['Unnamed: 0_y','Unnamed: 0'], axis = 1)\n",
    "#data.columns[1]= 'gamescore_rank'"
   ]
  },
  {
   "cell_type": "code",
   "execution_count": 13,
   "metadata": {},
   "outputs": [],
   "source": [
    "data = data.rename(columns={'Unnamed: 0_x':'gamescore_rank'})"
   ]
  },
  {
   "cell_type": "code",
   "execution_count": 14,
   "metadata": {},
   "outputs": [
    {
     "name": "stdout",
     "output_type": "stream",
     "text": [
      "<class 'pandas.core.frame.DataFrame'>\n",
      "RangeIndex: 75048 entries, 0 to 75047\n",
      "Data columns (total 4 columns):\n",
      "player    75048 non-null object\n",
      "pos       75048 non-null object\n",
      "salary    75048 non-null int64\n",
      "date      75048 non-null object\n",
      "dtypes: int64(1), object(3)\n",
      "memory usage: 2.3+ MB\n"
     ]
    }
   ],
   "source": [
    "salary_data.info()"
   ]
  },
  {
   "cell_type": "code",
   "execution_count": 15,
   "metadata": {},
   "outputs": [],
   "source": [
    "from src.cleaner import Cleaner \n",
    "import src.fantasy_scoring as fs"
   ]
  },
  {
   "cell_type": "code",
   "execution_count": 16,
   "metadata": {},
   "outputs": [],
   "source": [
    "clnr = Cleaner()\n",
    "data = clnr.bb_ref_to_dk(data)\n",
    "data['dk_score']= data.apply(lambda x: fs.dk_score(x),axis = 1)"
   ]
  },
  {
   "cell_type": "code",
   "execution_count": 17,
   "metadata": {},
   "outputs": [],
   "source": [
    "data['dk_per_min']=data.apply(lambda x: 0 if x['seconds_played']==0 else x['dk_score']*60/x['seconds_played'],axis = 1)\n",
    "data['minutes']=data['seconds_played']/60\n",
    "data['fg_pct']=data.apply(lambda x: 0 if x['attempted_field_goals']==0 \n",
    "                          else x['made_field_goals']/x['attempted_field_goals'],\n",
    "                          axis = 1)\n",
    "data['three_pct']=data.apply(lambda x: 0 if x['attempted_three_point_field_goals']==0 \n",
    "                          else (x['made_three_point_field_goals'])/x['attempted_three_point_field_goals'],\n",
    "                          axis = 1)\n",
    "data['two_pct']=data.apply(lambda x: 0 if (x['attempted_field_goals']-x['attempted_three_point_field_goals'])==0 \n",
    "                          else (x['made_field_goals']-x['made_three_point_field_goals'])/\n",
    "                           (x['attempted_field_goals']-x['attempted_three_point_field_goals']),\n",
    "                          axis = 1)\n",
    "data['ft_pct']=data.apply(lambda x: 0 if x['attempted_free_throws']==0 \n",
    "                          else x['made_free_throws']/x['attempted_free_throws'],\n",
    "                          axis = 1)"
   ]
  },
  {
   "cell_type": "code",
   "execution_count": 18,
   "metadata": {},
   "outputs": [],
   "source": [
    "data['w']=data['outcome'].apply(lambda x: 1 if x == 'Outcome.WIN' else 0)\n",
    "data['dk_per_min']=data.apply(lambda x: 0 if x['seconds_played']==0 else x['dk_score']*60/x['seconds_played'],axis = 1)"
   ]
  },
  {
   "cell_type": "code",
   "execution_count": 21,
   "metadata": {},
   "outputs": [],
   "source": [
    "def get_n_scatter(data, f1, f2,n=1500,buckets = 10,ax = plt, ascending = True,alpha=0.7, s = 6):\n",
    "    sub = data.iloc[::int(len(data)/n),:]\n",
    "    lines= np.r_[0:len(sub):int(len(sub)/buckets)]\n",
    "    out = np.zeros((buckets,2))\n",
    "    temp_data = sub.sort_values(by = f1,ascending=ascending)\n",
    "    #print(temp_data.shape)\n",
    "    for ind,i in enumerate(lines[1:]):\n",
    "        quantile = temp_data[f1].iloc[i]\n",
    "        out[ind,0]=quantile\n",
    "        sub = temp_data[(temp_data[f1]>=temp_data[f1].iloc[lines[ind]])&\n",
    "                             (temp_data[f1]<=quantile)]\n",
    "        #print(sub.shape)\n",
    "        out[ind,1]=sub[f2].mean()\n",
    "        ax.scatter(sub[f1],sub[f2],alpha = alpha, s = s )\n",
    "    ax.set_xlabel(f1, size = 16)\n",
    "    ax.set_ylabel(f2, size = 16)\n",
    "    return pd.DataFrame(out,columns=[f1,f2])"
   ]
  },
  {
   "cell_type": "code",
   "execution_count": 24,
   "metadata": {},
   "outputs": [],
   "source": [
    "data['dt']=pd.to_datetime(data['date'])\n",
    "salary_data['dt']=pd.to_datetime(salary_data['date'])"
   ]
  },
  {
   "cell_type": "code",
   "execution_count": 64,
   "metadata": {},
   "outputs": [],
   "source": [
    "salary_data['dt']=pd.to_datetime(salary_data['date'])"
   ]
  },
  {
   "cell_type": "code",
   "execution_count": 25,
   "metadata": {},
   "outputs": [
    {
     "name": "stdout",
     "output_type": "stream",
     "text": [
      "<class 'pandas.core.frame.DataFrame'>\n",
      "Int64Index: 55650 entries, 138 to 101013\n",
      "Data columns (total 44 columns):\n",
      "gamescore_rank                       55650 non-null int64\n",
      "assists                              55650 non-null int64\n",
      "attempted_field_goals                55650 non-null int64\n",
      "attempted_free_throws                55650 non-null int64\n",
      "attempted_three_point_field_goals    55650 non-null int64\n",
      "blocks                               55650 non-null int64\n",
      "date                                 55650 non-null object\n",
      "defensive_rebounds                   55650 non-null int64\n",
      "game_score                           55650 non-null float64\n",
      "location                             55650 non-null object\n",
      "made_field_goals                     55650 non-null int64\n",
      "made_free_throws                     55650 non-null int64\n",
      "made_three_point_field_goals         55650 non-null int64\n",
      "name                                 55650 non-null object\n",
      "offensive_rebounds                   55650 non-null int64\n",
      "opponent                             55650 non-null object\n",
      "outcome                              55650 non-null object\n",
      "personal_fouls                       55650 non-null int64\n",
      "seconds_played                       55650 non-null int64\n",
      "slug                                 55650 non-null object\n",
      "steals                               55650 non-null int64\n",
      "team                                 55650 non-null object\n",
      "turnovers                            55650 non-null int64\n",
      "player                               55650 non-null object\n",
      "birthday                             55650 non-null object\n",
      "year_min                             55650 non-null int64\n",
      "year_max                             55650 non-null int64\n",
      "pos                                  55650 non-null object\n",
      "height                               55650 non-null object\n",
      "weight                               55650 non-null float64\n",
      "points                               55650 non-null int64\n",
      "rebounds                             55650 non-null int64\n",
      "doubles                              55650 non-null int64\n",
      "dd                                   55650 non-null int64\n",
      "td                                   55650 non-null int64\n",
      "dk_score                             55650 non-null float64\n",
      "dk_per_min                           55650 non-null float64\n",
      "minutes                              55650 non-null float64\n",
      "fg_pct                               55650 non-null float64\n",
      "three_pct                            55650 non-null float64\n",
      "two_pct                              55650 non-null float64\n",
      "ft_pct                               55650 non-null float64\n",
      "w                                    55650 non-null int64\n",
      "dt                                   55650 non-null datetime64[ns]\n",
      "dtypes: datetime64[ns](1), float64(9), int64(23), object(11)\n",
      "memory usage: 19.1+ MB\n"
     ]
    }
   ],
   "source": [
    "min_date = salary_data['dt'].min()\n",
    "both_data = data[data['dt']>=min_date]\n",
    "both_data.info()"
   ]
  },
  {
   "cell_type": "code",
   "execution_count": 23,
   "metadata": {},
   "outputs": [
    {
     "ename": "KeyError",
     "evalue": "\"Column 'dt' does not exist!\"",
     "output_type": "error",
     "traceback": [
      "\u001b[0;31m---------------------------------------------------------------------------\u001b[0m",
      "\u001b[0;31mKeyError\u001b[0m                                  Traceback (most recent call last)",
      "\u001b[0;32m<ipython-input-23-edba9f1dd862>\u001b[0m in \u001b[0;36m<module>\u001b[0;34m\u001b[0m\n\u001b[1;32m     23\u001b[0m     \u001b[0;34m'blocks'\u001b[0m\u001b[0;34m:\u001b[0m\u001b[0mnp\u001b[0m\u001b[0;34m.\u001b[0m\u001b[0mmean\u001b[0m\u001b[0;34m,\u001b[0m\u001b[0;34m\u001b[0m\u001b[0;34m\u001b[0m\u001b[0m\n\u001b[1;32m     24\u001b[0m     \u001b[0;34m'turnovers'\u001b[0m\u001b[0;34m:\u001b[0m\u001b[0mnp\u001b[0m\u001b[0;34m.\u001b[0m\u001b[0mmean\u001b[0m\u001b[0;34m,\u001b[0m\u001b[0;34m\u001b[0m\u001b[0;34m\u001b[0m\u001b[0m\n\u001b[0;32m---> 25\u001b[0;31m     \u001b[0;34m'w'\u001b[0m\u001b[0;34m:\u001b[0m\u001b[0mnp\u001b[0m\u001b[0;34m.\u001b[0m\u001b[0mmean\u001b[0m\u001b[0;34m\u001b[0m\u001b[0;34m\u001b[0m\u001b[0m\n\u001b[0m\u001b[1;32m     26\u001b[0m }).sort_values(by=('dk_per_min','mean'),ascending=False)\n",
      "\u001b[0;32m~/anaconda3/lib/python3.7/site-packages/pandas/core/groupby/generic.py\u001b[0m in \u001b[0;36maggregate\u001b[0;34m(self, arg, *args, **kwargs)\u001b[0m\n\u001b[1;32m   1313\u001b[0m     \u001b[0;34m@\u001b[0m\u001b[0mAppender\u001b[0m\u001b[0;34m(\u001b[0m\u001b[0m_shared_docs\u001b[0m\u001b[0;34m[\u001b[0m\u001b[0;34m'aggregate'\u001b[0m\u001b[0;34m]\u001b[0m\u001b[0;34m)\u001b[0m\u001b[0;34m\u001b[0m\u001b[0;34m\u001b[0m\u001b[0m\n\u001b[1;32m   1314\u001b[0m     \u001b[0;32mdef\u001b[0m \u001b[0maggregate\u001b[0m\u001b[0;34m(\u001b[0m\u001b[0mself\u001b[0m\u001b[0;34m,\u001b[0m \u001b[0marg\u001b[0m\u001b[0;34m,\u001b[0m \u001b[0;34m*\u001b[0m\u001b[0margs\u001b[0m\u001b[0;34m,\u001b[0m \u001b[0;34m**\u001b[0m\u001b[0mkwargs\u001b[0m\u001b[0;34m)\u001b[0m\u001b[0;34m:\u001b[0m\u001b[0;34m\u001b[0m\u001b[0;34m\u001b[0m\u001b[0m\n\u001b[0;32m-> 1315\u001b[0;31m         \u001b[0;32mreturn\u001b[0m \u001b[0msuper\u001b[0m\u001b[0;34m(\u001b[0m\u001b[0mDataFrameGroupBy\u001b[0m\u001b[0;34m,\u001b[0m \u001b[0mself\u001b[0m\u001b[0;34m)\u001b[0m\u001b[0;34m.\u001b[0m\u001b[0maggregate\u001b[0m\u001b[0;34m(\u001b[0m\u001b[0marg\u001b[0m\u001b[0;34m,\u001b[0m \u001b[0;34m*\u001b[0m\u001b[0margs\u001b[0m\u001b[0;34m,\u001b[0m \u001b[0;34m**\u001b[0m\u001b[0mkwargs\u001b[0m\u001b[0;34m)\u001b[0m\u001b[0;34m\u001b[0m\u001b[0;34m\u001b[0m\u001b[0m\n\u001b[0m\u001b[1;32m   1316\u001b[0m \u001b[0;34m\u001b[0m\u001b[0m\n\u001b[1;32m   1317\u001b[0m     \u001b[0magg\u001b[0m \u001b[0;34m=\u001b[0m \u001b[0maggregate\u001b[0m\u001b[0;34m\u001b[0m\u001b[0;34m\u001b[0m\u001b[0m\n",
      "\u001b[0;32m~/anaconda3/lib/python3.7/site-packages/pandas/core/groupby/generic.py\u001b[0m in \u001b[0;36maggregate\u001b[0;34m(self, arg, *args, **kwargs)\u001b[0m\n\u001b[1;32m    184\u001b[0m \u001b[0;34m\u001b[0m\u001b[0m\n\u001b[1;32m    185\u001b[0m         \u001b[0m_level\u001b[0m \u001b[0;34m=\u001b[0m \u001b[0mkwargs\u001b[0m\u001b[0;34m.\u001b[0m\u001b[0mpop\u001b[0m\u001b[0;34m(\u001b[0m\u001b[0;34m'_level'\u001b[0m\u001b[0;34m,\u001b[0m \u001b[0;32mNone\u001b[0m\u001b[0;34m)\u001b[0m\u001b[0;34m\u001b[0m\u001b[0;34m\u001b[0m\u001b[0m\n\u001b[0;32m--> 186\u001b[0;31m         \u001b[0mresult\u001b[0m\u001b[0;34m,\u001b[0m \u001b[0mhow\u001b[0m \u001b[0;34m=\u001b[0m \u001b[0mself\u001b[0m\u001b[0;34m.\u001b[0m\u001b[0m_aggregate\u001b[0m\u001b[0;34m(\u001b[0m\u001b[0marg\u001b[0m\u001b[0;34m,\u001b[0m \u001b[0m_level\u001b[0m\u001b[0;34m=\u001b[0m\u001b[0m_level\u001b[0m\u001b[0;34m,\u001b[0m \u001b[0;34m*\u001b[0m\u001b[0margs\u001b[0m\u001b[0;34m,\u001b[0m \u001b[0;34m**\u001b[0m\u001b[0mkwargs\u001b[0m\u001b[0;34m)\u001b[0m\u001b[0;34m\u001b[0m\u001b[0;34m\u001b[0m\u001b[0m\n\u001b[0m\u001b[1;32m    187\u001b[0m         \u001b[0;32mif\u001b[0m \u001b[0mhow\u001b[0m \u001b[0;32mis\u001b[0m \u001b[0;32mNone\u001b[0m\u001b[0;34m:\u001b[0m\u001b[0;34m\u001b[0m\u001b[0;34m\u001b[0m\u001b[0m\n\u001b[1;32m    188\u001b[0m             \u001b[0;32mreturn\u001b[0m \u001b[0mresult\u001b[0m\u001b[0;34m\u001b[0m\u001b[0;34m\u001b[0m\u001b[0m\n",
      "\u001b[0;32m~/anaconda3/lib/python3.7/site-packages/pandas/core/base.py\u001b[0m in \u001b[0;36m_aggregate\u001b[0;34m(self, arg, *args, **kwargs)\u001b[0m\n\u001b[1;32m    408\u001b[0m                           k not in obj.columns):\n\u001b[1;32m    409\u001b[0m                         raise KeyError(\n\u001b[0;32m--> 410\u001b[0;31m                             \"Column '{col}' does not exist!\".format(col=k))\n\u001b[0m\u001b[1;32m    411\u001b[0m \u001b[0;34m\u001b[0m\u001b[0m\n\u001b[1;32m    412\u001b[0m                 \u001b[0marg\u001b[0m \u001b[0;34m=\u001b[0m \u001b[0mnew_arg\u001b[0m\u001b[0;34m\u001b[0m\u001b[0;34m\u001b[0m\u001b[0m\n",
      "\u001b[0;31mKeyError\u001b[0m: \"Column 'dt' does not exist!\""
     ]
    }
   ],
   "source": [
    "grp = data[data['minutes']>5].groupby(['name'])\n",
    "summary=grp.aggregate({\n",
    "    'dt':len,\n",
    "    'minutes':['sum',np.mean],\n",
    "    'td':['sum',np.mean],\n",
    "    'dd':['sum',np.mean],\n",
    "    'doubles':['sum',np.mean],\n",
    "    'dk_per_min':[np.mean,np.median,'max',np.std],\n",
    "    'dk_per_k':[np.mean,np.median,'max',np.std],\n",
    "    'dk_score':[np.mean,np.median,'max'],\n",
    "    'salary': [np.mean,np.median,'max',np.std],\n",
    "    'pos':pd.Series.mode,\n",
    "    'points':[np.mean,'max',np.std],\n",
    "    'game_score':[np.mean,'max',np.std],\n",
    "    'fg_pct':np.mean,\n",
    "    'three_pct':np.mean,\n",
    "    'two_pct':np.mean,\n",
    "    'rebounds':np.mean,\n",
    "    'offensive_rebounds':np.mean,\n",
    "    'defensive_rebounds':np.mean,\n",
    "    'assists':np.mean,\n",
    "    'steals':np.mean,\n",
    "    'blocks':np.mean,\n",
    "    'turnovers':np.mean,\n",
    "    'w':np.mean\n",
    "}).sort_values(by=('dk_per_min','mean'),ascending=False)"
   ]
  },
  {
   "cell_type": "code",
   "execution_count": 46,
   "metadata": {},
   "outputs": [],
   "source": [
    "f = open('dk_contest_dates2017-2019.csv','r')\n",
    "date_dict = defaultdict(str)\n",
    "for line in f.readlines():\n",
    "    date = line.split(',')[0]\n",
    "    slash_date = \"/\".join([date.split('-')[1],date.split('-')[2],date.split('-')[0]])\n",
    "    date_dict[line.split(',')[0]]=line.split(',')[1].strip()\n",
    "    date_dict[slash_date]=line.split(',')[1].strip()"
   ]
  },
  {
   "cell_type": "code",
   "execution_count": 47,
   "metadata": {},
   "outputs": [
    {
     "data": {
      "text/plain": [
       "'2017-10-18'"
      ]
     },
     "execution_count": 47,
     "metadata": {},
     "output_type": "execute_result"
    }
   ],
   "source": [
    "date_dict['2017-10-18']"
   ]
  },
  {
   "cell_type": "code",
   "execution_count": 42,
   "metadata": {},
   "outputs": [
    {
     "name": "stderr",
     "output_type": "stream",
     "text": [
      "/Users/shane/anaconda3/lib/python3.7/site-packages/ipykernel_launcher.py:1: SettingWithCopyWarning: \n",
      "A value is trying to be set on a copy of a slice from a DataFrame.\n",
      "Try using .loc[row_indexer,col_indexer] = value instead\n",
      "\n",
      "See the caveats in the documentation: http://pandas.pydata.org/pandas-docs/stable/indexing.html#indexing-view-versus-copy\n",
      "  \"\"\"Entry point for launching an IPython kernel.\n"
     ]
    }
   ],
   "source": [
    "both_data['date']=both_data['dt'].apply(lambda x: x.strftime(\"%Y-%m-%d\"))"
   ]
  },
  {
   "cell_type": "code",
   "execution_count": 50,
   "metadata": {},
   "outputs": [],
   "source": [
    "both_data['contest_date']=both_data['date'].apply(lambda x: date_dict[x])"
   ]
  },
  {
   "cell_type": "code",
   "execution_count": 61,
   "metadata": {},
   "outputs": [],
   "source": [
    "both_data = both_data[(both_data['contest_date'].apply(lambda x: len(x))!=0)]\n"
   ]
  },
  {
   "cell_type": "code",
   "execution_count": 63,
   "metadata": {},
   "outputs": [
    {
     "name": "stdout",
     "output_type": "stream",
     "text": [
      "<class 'pandas.core.frame.DataFrame'>\n",
      "RangeIndex: 9250 entries, 0 to 9249\n",
      "Data columns (total 4 columns):\n",
      "player    9250 non-null object\n",
      "pos       9250 non-null object\n",
      "salary    9250 non-null int64\n",
      "date      9250 non-null object\n",
      "dtypes: int64(1), object(3)\n",
      "memory usage: 289.1+ KB\n"
     ]
    },
    {
     "name": "stderr",
     "output_type": "stream",
     "text": [
      "/Users/shane/anaconda3/lib/python3.7/site-packages/pandas/core/frame.py:6692: FutureWarning: Sorting because non-concatenation axis is not aligned. A future version\n",
      "of pandas will change to not sort by default.\n",
      "\n",
      "To accept the future behavior, pass 'sort=False'.\n",
      "\n",
      "To retain the current behavior and silence the warning, pass 'sort=True'.\n",
      "\n",
      "  sort=sort)\n"
     ]
    }
   ],
   "source": [
    "gaps = pd.read_csv('data/salary_data_gaps.csv')\n",
    "gaps.info()\n",
    "salary_data = salary_data.append(gaps)\n"
   ]
  },
  {
   "cell_type": "code",
   "execution_count": 65,
   "metadata": {},
   "outputs": [
    {
     "name": "stdout",
     "output_type": "stream",
     "text": [
      "(84298, 5)\n",
      "(55394, 45)\n"
     ]
    }
   ],
   "source": [
    "print(salary_data.shape)\n",
    "print(both_data.shape)"
   ]
  },
  {
   "cell_type": "code",
   "execution_count": 66,
   "metadata": {},
   "outputs": [],
   "source": [
    "left = both_data.merge(salary_data,how = 'left',left_on=['name','dt'],right_on=['player','dt'])\n",
    "right = both_data.merge(salary_data,how = 'right',left_on=['name','dt'],right_on=['player','dt'])"
   ]
  },
  {
   "cell_type": "code",
   "execution_count": 85,
   "metadata": {
    "scrolled": true
   },
   "outputs": [
    {
     "name": "stdout",
     "output_type": "stream",
     "text": [
      "<class 'pandas.core.frame.DataFrame'>\n",
      "Int64Index: 55394 entries, 0 to 55393\n",
      "Data columns (total 49 columns):\n",
      "gamescore_rank                       55394 non-null int64\n",
      "assists                              55394 non-null int64\n",
      "attempted_field_goals                55394 non-null int64\n",
      "attempted_free_throws                55394 non-null int64\n",
      "attempted_three_point_field_goals    55394 non-null int64\n",
      "blocks                               55394 non-null int64\n",
      "date_x                               55394 non-null object\n",
      "defensive_rebounds                   55394 non-null int64\n",
      "game_score                           55394 non-null float64\n",
      "location                             55394 non-null object\n",
      "made_field_goals                     55394 non-null int64\n",
      "made_free_throws                     55394 non-null int64\n",
      "made_three_point_field_goals         55394 non-null int64\n",
      "name                                 55394 non-null object\n",
      "offensive_rebounds                   55394 non-null int64\n",
      "opponent                             55394 non-null object\n",
      "outcome                              55394 non-null object\n",
      "personal_fouls                       55394 non-null int64\n",
      "seconds_played                       55394 non-null int64\n",
      "slug                                 55394 non-null object\n",
      "steals                               55394 non-null int64\n",
      "team                                 55394 non-null object\n",
      "turnovers                            55394 non-null int64\n",
      "player_x                             55394 non-null object\n",
      "birthday                             55394 non-null object\n",
      "year_min                             55394 non-null int64\n",
      "year_max                             55394 non-null int64\n",
      "pos_x                                55394 non-null object\n",
      "height                               55394 non-null object\n",
      "weight                               55394 non-null float64\n",
      "points                               55394 non-null int64\n",
      "rebounds                             55394 non-null int64\n",
      "doubles                              55394 non-null int64\n",
      "dd                                   55394 non-null int64\n",
      "td                                   55394 non-null int64\n",
      "dk_score                             55394 non-null float64\n",
      "dk_per_min                           55394 non-null float64\n",
      "minutes                              55394 non-null float64\n",
      "fg_pct                               55394 non-null float64\n",
      "three_pct                            55394 non-null float64\n",
      "two_pct                              55394 non-null float64\n",
      "ft_pct                               55394 non-null float64\n",
      "w                                    55394 non-null int64\n",
      "dt                                   55394 non-null datetime64[ns]\n",
      "contest_date                         55394 non-null object\n",
      "date_y                               47857 non-null object\n",
      "player_y                             47857 non-null object\n",
      "pos_y                                47857 non-null object\n",
      "salary                               47857 non-null float64\n",
      "dtypes: datetime64[ns](1), float64(10), int64(23), object(15)\n",
      "memory usage: 21.1+ MB\n"
     ]
    }
   ],
   "source": [
    "left.info()"
   ]
  },
  {
   "cell_type": "code",
   "execution_count": 78,
   "metadata": {},
   "outputs": [
    {
     "ename": "TypeError",
     "evalue": "object of type 'float' has no len()",
     "output_type": "error",
     "traceback": [
      "\u001b[0;31m---------------------------------------------------------------------------\u001b[0m",
      "\u001b[0;31mTypeError\u001b[0m                                 Traceback (most recent call last)",
      "\u001b[0;32m<ipython-input-78-808d411fae7c>\u001b[0m in \u001b[0;36m<module>\u001b[0;34m\u001b[0m\n\u001b[1;32m      1\u001b[0m \u001b[0;31m#left['salary'].value_counts()\u001b[0m\u001b[0;34m\u001b[0m\u001b[0;34m\u001b[0m\u001b[0;34m\u001b[0m\u001b[0m\n\u001b[1;32m      2\u001b[0m \u001b[0;31m#left.info()\u001b[0m\u001b[0;34m\u001b[0m\u001b[0;34m\u001b[0m\u001b[0;34m\u001b[0m\u001b[0m\n\u001b[0;32m----> 3\u001b[0;31m \u001b[0mnp\u001b[0m\u001b[0;34m.\u001b[0m\u001b[0mmin\u001b[0m\u001b[0;34m(\u001b[0m\u001b[0mright\u001b[0m\u001b[0;34m[\u001b[0m\u001b[0;34m'name'\u001b[0m\u001b[0;34m]\u001b[0m\u001b[0;34m.\u001b[0m\u001b[0mapply\u001b[0m\u001b[0;34m(\u001b[0m\u001b[0;32mlambda\u001b[0m \u001b[0mx\u001b[0m\u001b[0;34m:\u001b[0m \u001b[0mlen\u001b[0m\u001b[0;34m(\u001b[0m\u001b[0mx\u001b[0m\u001b[0;34m)\u001b[0m\u001b[0;34m)\u001b[0m\u001b[0;34m)\u001b[0m\u001b[0;34m\u001b[0m\u001b[0;34m\u001b[0m\u001b[0m\n\u001b[0m",
      "\u001b[0;32m~/anaconda3/lib/python3.7/site-packages/pandas/core/series.py\u001b[0m in \u001b[0;36mapply\u001b[0;34m(self, func, convert_dtype, args, **kwds)\u001b[0m\n\u001b[1;32m   3589\u001b[0m             \u001b[0;32melse\u001b[0m\u001b[0;34m:\u001b[0m\u001b[0;34m\u001b[0m\u001b[0;34m\u001b[0m\u001b[0m\n\u001b[1;32m   3590\u001b[0m                 \u001b[0mvalues\u001b[0m \u001b[0;34m=\u001b[0m \u001b[0mself\u001b[0m\u001b[0;34m.\u001b[0m\u001b[0mastype\u001b[0m\u001b[0;34m(\u001b[0m\u001b[0mobject\u001b[0m\u001b[0;34m)\u001b[0m\u001b[0;34m.\u001b[0m\u001b[0mvalues\u001b[0m\u001b[0;34m\u001b[0m\u001b[0;34m\u001b[0m\u001b[0m\n\u001b[0;32m-> 3591\u001b[0;31m                 \u001b[0mmapped\u001b[0m \u001b[0;34m=\u001b[0m \u001b[0mlib\u001b[0m\u001b[0;34m.\u001b[0m\u001b[0mmap_infer\u001b[0m\u001b[0;34m(\u001b[0m\u001b[0mvalues\u001b[0m\u001b[0;34m,\u001b[0m \u001b[0mf\u001b[0m\u001b[0;34m,\u001b[0m \u001b[0mconvert\u001b[0m\u001b[0;34m=\u001b[0m\u001b[0mconvert_dtype\u001b[0m\u001b[0;34m)\u001b[0m\u001b[0;34m\u001b[0m\u001b[0;34m\u001b[0m\u001b[0m\n\u001b[0m\u001b[1;32m   3592\u001b[0m \u001b[0;34m\u001b[0m\u001b[0m\n\u001b[1;32m   3593\u001b[0m         \u001b[0;32mif\u001b[0m \u001b[0mlen\u001b[0m\u001b[0;34m(\u001b[0m\u001b[0mmapped\u001b[0m\u001b[0;34m)\u001b[0m \u001b[0;32mand\u001b[0m \u001b[0misinstance\u001b[0m\u001b[0;34m(\u001b[0m\u001b[0mmapped\u001b[0m\u001b[0;34m[\u001b[0m\u001b[0;36m0\u001b[0m\u001b[0;34m]\u001b[0m\u001b[0;34m,\u001b[0m \u001b[0mSeries\u001b[0m\u001b[0;34m)\u001b[0m\u001b[0;34m:\u001b[0m\u001b[0;34m\u001b[0m\u001b[0;34m\u001b[0m\u001b[0m\n",
      "\u001b[0;32mpandas/_libs/lib.pyx\u001b[0m in \u001b[0;36mpandas._libs.lib.map_infer\u001b[0;34m()\u001b[0m\n",
      "\u001b[0;32m<ipython-input-78-808d411fae7c>\u001b[0m in \u001b[0;36m<lambda>\u001b[0;34m(x)\u001b[0m\n\u001b[1;32m      1\u001b[0m \u001b[0;31m#left['salary'].value_counts()\u001b[0m\u001b[0;34m\u001b[0m\u001b[0;34m\u001b[0m\u001b[0;34m\u001b[0m\u001b[0m\n\u001b[1;32m      2\u001b[0m \u001b[0;31m#left.info()\u001b[0m\u001b[0;34m\u001b[0m\u001b[0;34m\u001b[0m\u001b[0;34m\u001b[0m\u001b[0m\n\u001b[0;32m----> 3\u001b[0;31m \u001b[0mnp\u001b[0m\u001b[0;34m.\u001b[0m\u001b[0mmin\u001b[0m\u001b[0;34m(\u001b[0m\u001b[0mright\u001b[0m\u001b[0;34m[\u001b[0m\u001b[0;34m'name'\u001b[0m\u001b[0;34m]\u001b[0m\u001b[0;34m.\u001b[0m\u001b[0mapply\u001b[0m\u001b[0;34m(\u001b[0m\u001b[0;32mlambda\u001b[0m \u001b[0mx\u001b[0m\u001b[0;34m:\u001b[0m \u001b[0mlen\u001b[0m\u001b[0;34m(\u001b[0m\u001b[0mx\u001b[0m\u001b[0;34m)\u001b[0m\u001b[0;34m)\u001b[0m\u001b[0;34m)\u001b[0m\u001b[0;34m\u001b[0m\u001b[0;34m\u001b[0m\u001b[0m\n\u001b[0m",
      "\u001b[0;31mTypeError\u001b[0m: object of type 'float' has no len()"
     ]
    }
   ],
   "source": [
    "#left['salary'].value_counts()\n",
    "#left.info()\n",
    "np.min(right['name'].apply(lambda x: len(x)))"
   ]
  },
  {
   "cell_type": "code",
   "execution_count": 101,
   "metadata": {},
   "outputs": [],
   "source": [
    "empties = left[['name','player_y','slug','date_x']].drop_duplicates('slug')\n",
    "empties.to_csv(\"data/dk_player_map.csv\")"
   ]
  },
  {
   "cell_type": "code",
   "execution_count": 103,
   "metadata": {},
   "outputs": [],
   "source": [
    "empties_dk = right[right['name'].isna()][['name','player_y','slug','date_y']]\n"
   ]
  },
  {
   "cell_type": "code",
   "execution_count": 106,
   "metadata": {},
   "outputs": [],
   "source": [
    "empties_dk.drop_duplicates('player_y').to_csv('data/dk_empties.csv')"
   ]
  }
 ],
 "metadata": {
  "kernelspec": {
   "display_name": "Python 3",
   "language": "python",
   "name": "python3"
  },
  "language_info": {
   "codemirror_mode": {
    "name": "ipython",
    "version": 3
   },
   "file_extension": ".py",
   "mimetype": "text/x-python",
   "name": "python",
   "nbconvert_exporter": "python",
   "pygments_lexer": "ipython3",
   "version": "3.7.3"
  }
 },
 "nbformat": 4,
 "nbformat_minor": 2
}
