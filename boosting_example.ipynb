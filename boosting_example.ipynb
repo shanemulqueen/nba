{
 "cells": [
  {
   "cell_type": "code",
   "execution_count": 1,
   "metadata": {},
   "outputs": [],
   "source": [
    "from sklearn.tree import DecisionTreeRegressor\n",
    "from sklearn.ensemble import RandomForestRegressor\n",
    "from sklearn.ensemble import GradientBoostingRegressor\n",
    "from sklearn.ensemble import AdaBoostRegressor\n",
    "from sklearn.datasets import load_boston\n",
    "from sklearn.model_selection import train_test_split, cross_val_score\n",
    "from sklearn.model_selection import GridSearchCV\n",
    "from sklearn.metrics import mean_squared_error, r2_score\n",
    "from sklearn.metrics import make_scorer\n",
    "import matplotlib.pyplot as plt\n",
    "import numpy as np"
   ]
  },
  {
   "cell_type": "code",
   "execution_count": 72,
   "metadata": {},
   "outputs": [],
   "source": [
    "from sklearn.base import clone"
   ]
  },
  {
   "cell_type": "code",
   "execution_count": 3,
   "metadata": {},
   "outputs": [],
   "source": [
    "boston = load_boston()\n",
    "# House Prices\n",
    "y = boston.target\n",
    "# The other 13 features\n",
    "X = boston.data"
   ]
  },
  {
   "cell_type": "code",
   "execution_count": 74,
   "metadata": {},
   "outputs": [],
   "source": [
    "X_train, X_test, y_train, y_test = train_test_split(X,y, test_size = 0.2, random_state = 103)"
   ]
  },
  {
   "cell_type": "code",
   "execution_count": 100,
   "metadata": {},
   "outputs": [],
   "source": [
    "rf = RandomForestRegressor(n_estimators=100,\n",
    "                            n_jobs=-1,\n",
    "                            random_state=1)\n",
    "\n",
    "gdbr = GradientBoostingRegressor(learning_rate=0.1,\n",
    "                                  loss='ls',\n",
    "                                  n_estimators=100,\n",
    "                                  random_state=1)\n",
    "\n",
    "abr = AdaBoostRegressor(DecisionTreeRegressor(),\n",
    "                         learning_rate=0.1,\n",
    "                         loss='linear',\n",
    "                         n_estimators=100,\n",
    "                         random_state=1)\n",
    "estimators = [rf,gdbr,abr]"
   ]
  },
  {
   "cell_type": "code",
   "execution_count": 50,
   "metadata": {},
   "outputs": [
    {
     "data": {
      "text/plain": [
       "100"
      ]
     },
     "execution_count": 50,
     "metadata": {},
     "output_type": "execute_result"
    }
   ],
   "source": [
    "#np.mean(cross_val_score(rf,X_train,y_train, cv = 3,\n",
    "#                scoring=make_scorer(mean_squared_error)))\n",
    "gdbr.n_estimators"
   ]
  },
  {
   "cell_type": "code",
   "execution_count": 101,
   "metadata": {},
   "outputs": [],
   "source": [
    "def cv_train_comparison(X,y,estimators):  \n",
    "    for est in estimators:\n",
    "        #est2 =clone(est)\n",
    "        mse = np.mean(cross_val_score(est,X,y, cv = 3,\n",
    "                scoring=make_scorer(mean_squared_error)))\n",
    "        r2 = np.mean(cross_val_score(est,X,y, cv = 3,\n",
    "                scoring=make_scorer(r2_score)))\n",
    "        print(\"{:28} Train CV | MSE: {:2.2f}  R2: {:.3f}\".format(type(est).__name__,mse,r2))"
   ]
  },
  {
   "cell_type": "code",
   "execution_count": 104,
   "metadata": {},
   "outputs": [
    {
     "data": {
      "text/plain": [
       "11.618359727639579"
      ]
     },
     "execution_count": 104,
     "metadata": {},
     "output_type": "execute_result"
    }
   ],
   "source": [
    "np.mean(cross_val_score(rf,X_train,y_train, cv = 3,\n",
    "                scoring=make_scorer(mean_squared_error)))"
   ]
  },
  {
   "cell_type": "code",
   "execution_count": 102,
   "metadata": {},
   "outputs": [
    {
     "name": "stdout",
     "output_type": "stream",
     "text": [
      "RandomForestRegressor        Train CV | MSE: 11.62  R2: 0.859\n",
      "GradientBoostingRegressor    Train CV | MSE: 10.37  R2: 0.874\n",
      "AdaBoostRegressor            Train CV | MSE: 12.01  R2: 0.854\n"
     ]
    }
   ],
   "source": [
    "cv_train_comparison(X_train,y_train, estimators)"
   ]
  },
  {
   "cell_type": "code",
   "execution_count": 82,
   "metadata": {},
   "outputs": [],
   "source": [
    "gdbr2 = GradientBoostingRegressor(learning_rate=1,\n",
    "                                  loss='ls',\n",
    "                                  n_estimators=100,\n",
    "                                  random_state=1)\n",
    "estimators.append(gdbr2)"
   ]
  },
  {
   "cell_type": "code",
   "execution_count": 83,
   "metadata": {},
   "outputs": [
    {
     "name": "stdout",
     "output_type": "stream",
     "text": [
      "RandomForestRegressor        Train CV | MSE: 11.62  R2: 0.859\n",
      "GradientBoostingRegressor    Train CV | MSE: 10.37  R2: 0.874\n",
      "AdaBoostRegressor            Train CV | MSE: 12.01  R2: 0.854\n",
      "GradientBoostingRegressor    Train CV | MSE: 27.36  R2: 0.669\n",
      "GradientBoostingRegressor    Train CV | MSE: 27.36  R2: 0.669\n"
     ]
    }
   ],
   "source": [
    "cv_train_comparison(X_train,y_train, estimators)"
   ]
  },
  {
   "cell_type": "code",
   "execution_count": 60,
   "metadata": {},
   "outputs": [],
   "source": [
    "def stage_score_plot(estimator, X_train, y_train, X_test, y_test):\n",
    "    '''\n",
    "    Parameters: estimator: GradientBoostingRegressor or AdaBoostRegressor\n",
    "                X_train: 2d numpy array\n",
    "                y_train: 1d numpy array\n",
    "                X_test: 2d numpy array\n",
    "                y_test: 1d numpy array\n",
    "\n",
    "    Returns: A plot of the number of iterations vs the MSE for the model for\n",
    "    both the training set and test set.\n",
    "    '''\n",
    "    mse_train = np.zeros(estimator.n_estimators)\n",
    "    mse_test = np.zeros(estimator.n_estimators)\n",
    "    estimator.fit(X_train,y_train)\n",
    "    for ind, (yh_test,yh_train) in enumerate(zip(estimator.staged_predict(X_test),\n",
    "                                                 estimator.staged_predict(X_train))):\n",
    "        mse_test[ind]=mean_squared_error(y_test,yh_test)\n",
    "        mse_train[ind]=mean_squared_error(y_train,yh_train)\n",
    "    \n",
    "    plt.plot(np.r_[0:estimator.n_estimators],mse_test,\n",
    "             label ='{} Test Rate {}'.format(estimator.__class__.__name__, estimator.learning_rate))\n",
    "    plt.plot(np.r_[0:estimator.n_estimators],mse_train,\n",
    "             label ='{} Train Rate {}'.format(estimator.__class__.__name__, estimator.learning_rate))\n",
    "    plt.legend()"
   ]
  },
  {
   "cell_type": "code",
   "execution_count": 85,
   "metadata": {},
   "outputs": [
    {
     "data": {
      "image/png": "[encoded data removed]",
      "text/plain": [
       "<Figure size 936x432 with 1 Axes>"
      ]
     },
     "metadata": {
      "needs_background": "light"
     },
     "output_type": "display_data"
    }
   ],
   "source": [
    "plt.figure(figsize=(13,6))\n",
    "plt.axis(ymax = 20)\n",
    "stage_score_plot(gdbr, X_train, y_train, X_test, y_test)\n",
    "stage_score_plot(abr, X_train, y_train, X_test, y_test)\n",
    "rf.fit(X_train,y_train)\n",
    "plt.hlines(mean_squared_error(y_test, rf.predict(X_test)),0,100,linestyles='--', label = 'Random Forest MSE')\n",
    "plt.legend()\n",
    "plt.show()"
   ]
  },
  {
   "cell_type": "code",
   "execution_count": 86,
   "metadata": {},
   "outputs": [
    {
     "data": {
      "image/png": "[encoded data removed]",
      "text/plain": [
       "<Figure size 936x432 with 1 Axes>"
      ]
     },
     "metadata": {
      "needs_background": "light"
     },
     "output_type": "display_data"
    }
   ],
   "source": [
    "plt.figure(figsize=(13,6))\n",
    "plt.axis(ymax = 30)\n",
    "stage_score_plot(gdbr2, X_train, y_train, X_test, y_test)"
   ]
  },
  {
   "cell_type": "code",
   "execution_count": 87,
   "metadata": {},
   "outputs": [
    {
     "name": "stdout",
     "output_type": "stream",
     "text": [
      "Fitting 3 folds for each of 288 candidates, totalling 864 fits\n"
     ]
    },
    {
     "name": "stderr",
     "output_type": "stream",
     "text": [
      "/Users/shane/anaconda3/lib/python3.6/site-packages/sklearn/model_selection/_split.py:1943: FutureWarning: You should specify a value for 'cv' instead of relying on the default value. The default value will change from 3 to 5 in version 0.22.\n",
      "  warnings.warn(CV_WARNING, FutureWarning)\n",
      "[Parallel(n_jobs=-1)]: Using backend LokyBackend with 8 concurrent workers.\n",
      "[Parallel(n_jobs=-1)]: Done  34 tasks      | elapsed:    2.4s\n",
      "[Parallel(n_jobs=-1)]: Done 184 tasks      | elapsed:    4.8s\n",
      "[Parallel(n_jobs=-1)]: Done 434 tasks      | elapsed:    9.0s\n",
      "[Parallel(n_jobs=-1)]: Done 784 tasks      | elapsed:   14.7s\n"
     ]
    },
    {
     "name": "stdout",
     "output_type": "stream",
     "text": [
      "best parameters: {'bootstrap': False, 'max_depth': None, 'max_features': 'sqrt', 'min_samples_leaf': 1, 'min_samples_split': 2, 'n_estimators': 80, 'random_state': 1}\n"
     ]
    },
    {
     "name": "stderr",
     "output_type": "stream",
     "text": [
      "[Parallel(n_jobs=-1)]: Done 864 out of 864 | elapsed:   16.2s finished\n",
      "/Users/shane/anaconda3/lib/python3.6/site-packages/sklearn/model_selection/_search.py:841: DeprecationWarning: The default of the `iid` parameter will change from True to False in version 0.22 and will be removed in 0.24. This will change numeric results when test-set sizes are unequal.\n",
      "  DeprecationWarning)\n"
     ]
    }
   ],
   "source": [
    "random_forest_grid = {'max_depth': [3, None],\n",
    "                      'max_features': ['sqrt', 'log2', None],\n",
    "                      'min_samples_split': [2, 4],\n",
    "                      'min_samples_leaf': [1, 2, 4],\n",
    "                      'bootstrap': [True, False],\n",
    "                      'n_estimators': [10, 20, 40, 80],\n",
    "                      'random_state': [1]}\n",
    "\n",
    "rf_gridsearch = GridSearchCV(RandomForestRegressor(),\n",
    "                             random_forest_grid,\n",
    "                             n_jobs=-1,\n",
    "                             verbose=True,\n",
    "                             scoring='neg_mean_squared_error')\n",
    "rf_gridsearch.fit(X_train, y_train)\n",
    "\n",
    "print( \"best parameters:\", rf_gridsearch.best_params_ )\n",
    "\n",
    "best_rf_model = rf_gridsearch.best_estimator_"
   ]
  },
  {
   "cell_type": "code",
   "execution_count": 89,
   "metadata": {},
   "outputs": [
    {
     "name": "stdout",
     "output_type": "stream",
     "text": [
      "10.526030333333344\n",
      "9.916258088235296\n"
     ]
    }
   ],
   "source": [
    "best_rf_model.fit(X_train,y_train)\n",
    "print(mean_squared_error(y_test, rf.predict(X_test)))\n",
    "print(mean_squared_error(y_test, best_rf_model.predict(X_test)))"
   ]
  },
  {
   "cell_type": "code",
   "execution_count": 91,
   "metadata": {},
   "outputs": [
    {
     "name": "stdout",
     "output_type": "stream",
     "text": [
      "Fitting 3 folds for each of 108 candidates, totalling 324 fits\n"
     ]
    },
    {
     "name": "stderr",
     "output_type": "stream",
     "text": [
      "/Users/shane/anaconda3/lib/python3.6/site-packages/sklearn/model_selection/_split.py:1943: FutureWarning: You should specify a value for 'cv' instead of relying on the default value. The default value will change from 3 to 5 in version 0.22.\n",
      "  warnings.warn(CV_WARNING, FutureWarning)\n",
      "[Parallel(n_jobs=-1)]: Using backend LokyBackend with 8 concurrent workers.\n",
      "[Parallel(n_jobs=-1)]: Done  34 tasks      | elapsed:    6.4s\n",
      "[Parallel(n_jobs=-1)]: Done 184 tasks      | elapsed:   16.5s\n",
      "[Parallel(n_jobs=-1)]: Done 324 out of 324 | elapsed:   22.5s finished\n",
      "/Users/shane/anaconda3/lib/python3.6/site-packages/sklearn/model_selection/_search.py:841: DeprecationWarning: The default of the `iid` parameter will change from True to False in version 0.22 and will be removed in 0.24. This will change numeric results when test-set sizes are unequal.\n",
      "  DeprecationWarning)\n"
     ]
    },
    {
     "name": "stdout",
     "output_type": "stream",
     "text": [
      "best parameters: {'learning_rate': 0.01, 'max_depth': 5, 'max_features': 3, 'min_samples_leaf': 1, 'n_estimators': 1000}\n",
      "10.48631075801014\n",
      "8.578908219078112\n"
     ]
    }
   ],
   "source": [
    "gb_grid = {'learning_rate':[0.01,0.1,0.4],\n",
    "          'max_depth':[None,1,5],\n",
    "          'min_samples_leaf':[1,5],\n",
    "          'n_estimators':[100,1000,3000],\n",
    "          'max_features':[None,3]}\n",
    "gb_gridsearch = GridSearchCV(GradientBoostingRegressor(),\n",
    "                             gb_grid,\n",
    "                             n_jobs=-1,\n",
    "                             verbose=True,\n",
    "                             scoring='neg_mean_squared_error')\n",
    "gb_gridsearch.fit(X_train, y_train)\n",
    "\n",
    "print( \"best parameters:\", gb_gridsearch.best_params_ )\n",
    "\n",
    "best_gb_model = gb_gridsearch.best_estimator_\n",
    "\n",
    "best_gb_model.fit(X_train,y_train)\n",
    "print(mean_squared_error(y_test, gdbr.predict(X_test)))\n",
    "print(mean_squared_error(y_test, best_gb_model.predict(X_test)))"
   ]
  },
  {
   "cell_type": "code",
   "execution_count": 98,
   "metadata": {},
   "outputs": [
    {
     "name": "stderr",
     "output_type": "stream",
     "text": [
      "/Users/shane/anaconda3/lib/python3.6/site-packages/sklearn/model_selection/_split.py:1943: FutureWarning: You should specify a value for 'cv' instead of relying on the default value. The default value will change from 3 to 5 in version 0.22.\n",
      "  warnings.warn(CV_WARNING, FutureWarning)\n",
      "[Parallel(n_jobs=-1)]: Using backend LokyBackend with 8 concurrent workers.\n"
     ]
    },
    {
     "name": "stdout",
     "output_type": "stream",
     "text": [
      "Fitting 3 folds for each of 162 candidates, totalling 486 fits\n"
     ]
    },
    {
     "name": "stderr",
     "output_type": "stream",
     "text": [
      "/Users/shane/anaconda3/lib/python3.6/site-packages/sklearn/externals/joblib/externals/loky/process_executor.py:700: UserWarning: A worker stopped while some jobs were given to the executor. This can be caused by a too short worker timeout or by a memory leak.\n",
      "  \"timeout or by a memory leak.\", UserWarning\n",
      "[Parallel(n_jobs=-1)]: Done  34 tasks      | elapsed:   22.3s\n",
      "[Parallel(n_jobs=-1)]: Done 184 tasks      | elapsed:  1.2min\n",
      "[Parallel(n_jobs=-1)]: Done 434 tasks      | elapsed:  2.3min\n",
      "[Parallel(n_jobs=-1)]: Done 486 out of 486 | elapsed:  2.5min finished\n",
      "/Users/shane/anaconda3/lib/python3.6/site-packages/sklearn/model_selection/_search.py:841: DeprecationWarning: The default of the `iid` parameter will change from True to False in version 0.22 and will be removed in 0.24. This will change numeric results when test-set sizes are unequal.\n",
      "  DeprecationWarning)\n"
     ]
    },
    {
     "name": "stdout",
     "output_type": "stream",
     "text": [
      "best parameters: {'learning_rate': 0.01, 'max_depth': 7, 'max_features': 3, 'min_samples_leaf': 3, 'n_estimators': 3000}\n",
      "10.48631075801014\n",
      "8.085686465521839\n"
     ]
    }
   ],
   "source": [
    "gb_grid = {'learning_rate':[0.002,0.005,0.01],\n",
    "          'max_depth':[None,5,7],\n",
    "          'min_samples_leaf':[1,3,4],\n",
    "          'n_estimators':[1000,3000,5000],\n",
    "          'max_features':[None,3]}\n",
    "\n",
    "gb_gridsearch = GridSearchCV(GradientBoostingRegressor(),\n",
    "                             gb_grid,\n",
    "                             n_jobs=-1,\n",
    "                             verbose=True,\n",
    "                             scoring='neg_mean_squared_error')\n",
    "gb_gridsearch.fit(X_train, y_train)\n",
    "\n",
    "print( \"best parameters:\", gb_gridsearch.best_params_ )\n",
    "\n",
    "best_gb_model = gb_gridsearch.best_estimator_\n",
    "\n",
    "best_gb_model.fit(X_train,y_train)\n",
    "print(mean_squared_error(y_test, gdbr.predict(X_test)))\n",
    "print(mean_squared_error(y_test, best_gb_model.predict(X_test)))"
   ]
  },
  {
   "cell_type": "code",
   "execution_count": 110,
   "metadata": {},
   "outputs": [
    {
     "name": "stdout",
     "output_type": "stream",
     "text": [
      "Fitting 8 folds for each of 80 candidates, totalling 640 fits\n"
     ]
    },
    {
     "name": "stderr",
     "output_type": "stream",
     "text": [
      "[Parallel(n_jobs=-1)]: Using backend LokyBackend with 8 concurrent workers.\n",
      "[Parallel(n_jobs=-1)]: Done  52 tasks      | elapsed:    2.6s\n",
      "[Parallel(n_jobs=-1)]: Done 352 tasks      | elapsed:   17.7s\n",
      "[Parallel(n_jobs=-1)]: Done 640 out of 640 | elapsed:   32.5s finished\n",
      "/Users/shane/anaconda3/lib/python3.6/site-packages/sklearn/model_selection/_search.py:841: DeprecationWarning: The default of the `iid` parameter will change from True to False in version 0.22 and will be removed in 0.24. This will change numeric results when test-set sizes are unequal.\n",
      "  DeprecationWarning)\n"
     ]
    },
    {
     "name": "stdout",
     "output_type": "stream",
     "text": [
      "best parameters: {'base_estimator': DecisionTreeRegressor(criterion='mse', max_depth=13, max_features=None,\n",
      "           max_leaf_nodes=None, min_impurity_decrease=0.0,\n",
      "           min_impurity_split=None, min_samples_leaf=1,\n",
      "           min_samples_split=2, min_weight_fraction_leaf=0.0,\n",
      "           presort=False, random_state=None, splitter='best'), 'learning_rate': 0.9, 'n_estimators': 150}\n",
      "9.00892156862745\n",
      "8.637961477800994\n"
     ]
    }
   ],
   "source": [
    "ad_grid = {'learning_rate':[0.05,0.1,0.4,0.9,1],\n",
    "          'base_estimator':[DecisionTreeRegressor(max_depth=7),DecisionTreeRegressor(max_depth=13),DecisionTreeRegressor(max_depth=15),DecisionTreeRegressor(max_depth=9)],\n",
    "          'n_estimators':[50,100,150,200]}\n",
    "ad_gridsearch = GridSearchCV(AdaBoostRegressor(),\n",
    "                             ad_grid,\n",
    "                             n_jobs=-1,\n",
    "                             verbose=True,\n",
    "                             scoring='neg_mean_squared_error',\n",
    "                            cv = 8)\n",
    "ad_gridsearch.fit(X_train, y_train)\n",
    "\n",
    "print( \"best parameters:\", ad_gridsearch.best_params_ )\n",
    "\n",
    "best_ad_model = ad_gridsearch.best_estimator_\n",
    "abr.fit(X_train,y_train)\n",
    "best_ad_model.fit(X_train,y_train)\n",
    "print(mean_squared_error(y_test, abr.predict(X_test)))\n",
    "print(mean_squared_error(y_test, best_ad_model.predict(X_test)))"
   ]
  }
 ],
 "metadata": {
  "kernelspec": {
   "display_name": "Python 3",
   "language": "python",
   "name": "python3"
  },
  "language_info": {
   "codemirror_mode": {
    "name": "ipython",
    "version": 3
   },
   "file_extension": ".py",
   "mimetype": "text/x-python",
   "name": "python",
   "nbconvert_exporter": "python",
   "pygments_lexer": "ipython3",
   "version": "3.7.3"
  }
 },
 "nbformat": 4,
 "nbformat_minor": 2
}
