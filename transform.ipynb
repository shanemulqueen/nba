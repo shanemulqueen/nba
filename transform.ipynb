{
 "cells": [
  {
   "cell_type": "code",
   "execution_count": 6,
   "metadata": {},
   "outputs": [],
   "source": [
    "from collections import Counter\n",
    "from flask import Flask, request, render_template, jsonify\n",
    "import pickle\n",
    "import pandas as pd\n",
    "from matplotlib import pyplot as plt\n",
    "import numpy as np\n",
    "import requests\n",
    "import re\n",
    "from bs4 import BeautifulSoup\n",
    "import argparse\n",
    "import time\n",
    "from splinter import Browser\n",
    "import time\n",
    "from collections import defaultdict\n",
    "import json\n",
    "import re"
   ]
  },
  {
   "cell_type": "code",
   "execution_count": 22,
   "metadata": {},
   "outputs": [],
   "source": [
    "import uuid"
   ]
  },
  {
   "cell_type": "code",
   "execution_count": 2,
   "metadata": {},
   "outputs": [],
   "source": [
    "%load_ext autoreload\n",
    "%autoreload 2"
   ]
  },
  {
   "cell_type": "code",
   "execution_count": 3,
   "metadata": {},
   "outputs": [],
   "source": [
    "from src.cleaner import Cleaner \n",
    "import src.fantasy_scoring as fs"
   ]
  },
  {
   "cell_type": "code",
   "execution_count": 4,
   "metadata": {},
   "outputs": [],
   "source": [
    "import requests\n",
    "import boto3\n",
    "from boto3.dynamodb.conditions import Key, Attr\n",
    "import json\n",
    "from decimal import Decimal"
   ]
  },
  {
   "cell_type": "code",
   "execution_count": 97,
   "metadata": {},
   "outputs": [],
   "source": [
    "#session = requests.Session()\n",
    "session = boto3.Session(profile_name='personal')\n",
    "\n",
    "right = old"
   ]
  },
  {
   "cell_type": "code",
   "execution_count": 17,
   "metadata": {},
   "outputs": [
    {
     "data": {
      "text/plain": [
       "'personal'"
      ]
     },
     "execution_count": 17,
     "metadata": {},
     "output_type": "execute_result"
    }
   ],
   "source": [
    "session.profile_name"
   ]
  },
  {
   "cell_type": "code",
   "execution_count": 15,
   "metadata": {},
   "outputs": [],
   "source": [
    "dynamodb = boto3.resource('dynamodb', region_name='us-east-1',aws_access_key_id = '',\n",
    "aws_secret_access_key = '')\n",
    "table = dynamodb.Table('nba_bbref')"
   ]
  },
  {
   "cell_type": "code",
   "execution_count": 98,
   "metadata": {},
   "outputs": [],
   "source": [
    "dynamodb = session.client('dynamodb', region_name='us-east-1')"
   ]
  },
  {
   "cell_type": "code",
   "execution_count": 24,
   "metadata": {},
   "outputs": [
    {
     "name": "stdout",
     "output_type": "stream",
     "text": [
      "330 µs ± 6.87 µs per loop (mean ± std. dev. of 7 runs, 1000 loops each)\n"
     ]
    }
   ],
   "source": [
    "%timeit [uuid.uuid4() for i in range(100)]"
   ]
  },
  {
   "cell_type": "code",
   "execution_count": 8,
   "metadata": {},
   "outputs": [],
   "source": [
    "data1 = pd.read_csv(\"data/bb_reference/2016to2019Data_merged.csv\", encoding = 'latin-1')\n",
    "data2 = pd.read_csv(\"data/bb_reference/2013to2015Data_merged.csv\", encoding = 'latin-1')"
   ]
  },
  {
   "cell_type": "code",
   "execution_count": 10,
   "metadata": {},
   "outputs": [
    {
     "name": "stdout",
     "output_type": "stream",
     "text": [
      "(101014, 32)\n",
      "(83567, 32)\n"
     ]
    },
    {
     "data": {
      "text/plain": [
       "(184581, 32)"
      ]
     },
     "execution_count": 10,
     "metadata": {},
     "output_type": "execute_result"
    }
   ],
   "source": [
    "print(data1.shape)\n",
    "print(data2.shape)\n",
    "data = data1.append(data2)\n",
    "data.shape"
   ]
  },
  {
   "cell_type": "code",
   "execution_count": 11,
   "metadata": {},
   "outputs": [],
   "source": [
    "data = data.drop(['Unnamed: 0_y','Unnamed: 0'], axis = 1)\n",
    "data = data.rename(columns={'Unnamed: 0_x':'gamescore_rank'})"
   ]
  },
  {
   "cell_type": "code",
   "execution_count": 12,
   "metadata": {},
   "outputs": [],
   "source": [
    "clnr = Cleaner()\n",
    "data = clnr.transform(data)"
   ]
  },
  {
   "cell_type": "code",
   "execution_count": 13,
   "metadata": {},
   "outputs": [],
   "source": [
    "data['date']=data['dt'].apply(lambda x: x.strftime(\"%Y-%m-%d\"))"
   ]
  },
  {
   "cell_type": "code",
   "execution_count": 99,
   "metadata": {
    "scrolled": true
   },
   "outputs": [
    {
     "ename": "AttributeError",
     "evalue": "'DynamoDB' object has no attribute 'Table'",
     "output_type": "error",
     "traceback": [
      "\u001b[0;31m---------------------------------------------------------------------------\u001b[0m",
      "\u001b[0;31mAttributeError\u001b[0m                            Traceback (most recent call last)",
      "\u001b[0;32m<ipython-input-99-f794160ed371>\u001b[0m in \u001b[0;36m<module>\u001b[0;34m\u001b[0m\n\u001b[0;32m----> 1\u001b[0;31m \u001b[0mtable\u001b[0m \u001b[0;34m=\u001b[0m \u001b[0mdynamodb\u001b[0m\u001b[0;34m.\u001b[0m\u001b[0mTable\u001b[0m\u001b[0;34m(\u001b[0m\u001b[0;34m'nba_bbref'\u001b[0m\u001b[0;34m)\u001b[0m\u001b[0;34m\u001b[0m\u001b[0;34m\u001b[0m\u001b[0m\n\u001b[0m",
      "\u001b[0;32m~/anaconda3/lib/python3.7/site-packages/botocore/client.py\u001b[0m in \u001b[0;36m__getattr__\u001b[0;34m(self, item)\u001b[0m\n\u001b[1;32m    599\u001b[0m         raise AttributeError(\n\u001b[1;32m    600\u001b[0m             \"'%s' object has no attribute '%s'\" % (\n\u001b[0;32m--> 601\u001b[0;31m                 self.__class__.__name__, item)\n\u001b[0m\u001b[1;32m    602\u001b[0m         )\n\u001b[1;32m    603\u001b[0m \u001b[0;34m\u001b[0m\u001b[0m\n",
      "\u001b[0;31mAttributeError\u001b[0m: 'DynamoDB' object has no attribute 'Table'"
     ]
    }
   ],
   "source": [
    "table = dynamodb.Table('nba_bbref')  \n"
   ]
  },
  {
   "cell_type": "code",
   "execution_count": 84,
   "metadata": {},
   "outputs": [],
   "source": [
    "dynamodb.batch_write_item()"
   ]
  },
  {
   "cell_type": "code",
   "execution_count": 16,
   "metadata": {},
   "outputs": [
    {
     "name": "stdout",
     "output_type": "stream",
     "text": [
      "<class 'pandas.core.frame.DataFrame'>\n",
      "Int64Index: 184581 entries, 0 to 21889\n",
      "Data columns (total 54 columns):\n",
      "gamescore_rank                       184581 non-null int64\n",
      "assists                              184581 non-null int64\n",
      "attempted_field_goals                184581 non-null int64\n",
      "attempted_free_throws                184581 non-null int64\n",
      "attempted_three_point_field_goals    184581 non-null int64\n",
      "blocks                               184581 non-null int64\n",
      "date                                 184581 non-null object\n",
      "defensive_rebounds                   184581 non-null int64\n",
      "game_score                           184581 non-null float64\n",
      "location                             184581 non-null object\n",
      "made_field_goals                     184581 non-null int64\n",
      "made_free_throws                     184581 non-null int64\n",
      "made_three_point_field_goals         184581 non-null int64\n",
      "name                                 184581 non-null object\n",
      "offensive_rebounds                   184581 non-null int64\n",
      "opponent                             184581 non-null object\n",
      "outcome                              184581 non-null object\n",
      "personal_fouls                       184581 non-null int64\n",
      "seconds_played                       184581 non-null int64\n",
      "slug                                 184581 non-null object\n",
      "steals                               184581 non-null int64\n",
      "team                                 184581 non-null object\n",
      "turnovers                            184581 non-null int64\n",
      "player                               184581 non-null object\n",
      "birthday                             184581 non-null object\n",
      "year_min                             184581 non-null int64\n",
      "year_max                             184581 non-null int64\n",
      "pos                                  184581 non-null object\n",
      "height                               184581 non-null object\n",
      "weight                               184581 non-null float64\n",
      "points                               184581 non-null int64\n",
      "rebounds                             184581 non-null int64\n",
      "doubles                              184581 non-null int64\n",
      "dd                                   184581 non-null int64\n",
      "td                                   184581 non-null int64\n",
      "dk_score                             184581 non-null float64\n",
      "dk_per_min                           184581 non-null float64\n",
      "dk_no_fg                             184581 non-null float64\n",
      "dk_no_fg_per_min                     184581 non-null float64\n",
      "assists_per_min                      184581 non-null float64\n",
      "blocks_per_min                       184581 non-null float64\n",
      "or_per_min                           184581 non-null float64\n",
      "dr_per_min                           184581 non-null float64\n",
      "steals_per_min                       184581 non-null float64\n",
      "turnovers_per_min                    184581 non-null float64\n",
      "points_per_min                       184581 non-null float64\n",
      "double_per_min                       184581 non-null float64\n",
      "minutes                              184581 non-null float64\n",
      "fg_pct                               184581 non-null float64\n",
      "w                                    184581 non-null int64\n",
      "three_pct                            184581 non-null float64\n",
      "two_pct                              184581 non-null float64\n",
      "ft_pct                               184581 non-null float64\n",
      "dt                                   184581 non-null datetime64[ns]\n",
      "dtypes: datetime64[ns](1), float64(19), int64(23), object(11)\n",
      "memory usage: 77.5+ MB\n"
     ]
    }
   ],
   "source": [
    "data.info()"
   ]
  },
  {
   "cell_type": "code",
   "execution_count": 20,
   "metadata": {},
   "outputs": [
    {
     "data": {
      "text/plain": [
       "numpy.ndarray"
      ]
     },
     "execution_count": 20,
     "metadata": {},
     "output_type": "execute_result"
    }
   ],
   "source": [
    "players = data['slug'].unique()\n",
    "names = data['player'].unique()\n",
    "slug_names = {player:name for player,name in zip(players,names)}\n",
    "name_slugs = {name:player for player,name in zip(players,names)}\n",
    "type(players)"
   ]
  },
  {
   "cell_type": "code",
   "execution_count": 22,
   "metadata": {},
   "outputs": [
    {
     "data": {
      "text/plain": [
       "array(['horfoal01', 'aminual01', 'couside01', 'turneev01', 'griffbl01',\n",
       "       'outlatr01', 'garcifr01', 'templga01', 'chandty01', 'bynumwi01',\n",
       "       'batumni01', 'tollian01', 'martica01', 'crawfjo02', 'anthoca01',\n",
       "       'koufoko01', 'brownkw01', 'maxieja01', 'artesro01', 'mcgeeja01'],\n",
       "      dtype=object)"
      ]
     },
     "execution_count": 22,
     "metadata": {},
     "output_type": "execute_result"
    }
   ],
   "source": [
    "players[0:20]"
   ]
  },
  {
   "cell_type": "code",
   "execution_count": 178,
   "metadata": {},
   "outputs": [],
   "source": [
    "single = data[data['player']=='John Wall']\n",
    "lag = clnr.gameplay_stats(single,player_col = 'slug',lag = 10)\n",
    "lag['id']= lag['date']+lag['slug']\n",
    "for ind, elem in enumerate(lag.iloc[0,:]):\n",
    "    if (str(type(elem))==\"<class 'numpy.float64'>\"):\n",
    "        lag.iloc[:,ind] = lag.iloc[:,ind].apply(lambda x : Decimal(x).quantize(Decimal('.001')))"
   ]
  },
  {
   "cell_type": "code",
   "execution_count": 21,
   "metadata": {},
   "outputs": [
    {
     "data": {
      "text/plain": [
       "'walljo01'"
      ]
     },
     "execution_count": 21,
     "metadata": {},
     "output_type": "execute_result"
    }
   ],
   "source": [
    "name_slugs['John Wall']"
   ]
  },
  {
   "cell_type": "code",
   "execution_count": 29,
   "metadata": {},
   "outputs": [
    {
     "data": {
      "text/plain": [
       "1035"
      ]
     },
     "execution_count": 29,
     "metadata": {},
     "output_type": "execute_result"
    }
   ],
   "source": [
    "len(players)"
   ]
  },
  {
   "cell_type": "code",
   "execution_count": null,
   "metadata": {},
   "outputs": [
    {
     "name": "stdout",
     "output_type": "stream",
     "text": [
      "done with 1 lag (282)\n",
      "done with 2 lag (282)\n",
      "done with 3 lag (282)\n",
      "done with 6 lag (282)\n",
      "done with 11 lag (282)\n",
      "done with 22 lag (282)\n",
      "done with 33 lag (282)\n",
      "Done with Tayshaun Prince in 6.5\n",
      "done with 1 lag (543)\n",
      "done with 2 lag (543)\n",
      "done with 3 lag (543)\n",
      "done with 6 lag (543)\n",
      "done with 11 lag (543)\n",
      "done with 22 lag (543)\n",
      "done with 33 lag (543)\n",
      "Done with LaMarcus Aldridge in 25.3\n",
      "done with 1 lag (201)\n",
      "done with 2 lag (201)\n",
      "done with 3 lag (201)\n",
      "done with 6 lag (201)\n",
      "done with 11 lag (201)\n",
      "done with 22 lag (201)\n",
      "done with 33 lag (201)\n",
      "Done with Charlie Villanueva in 9.4\n",
      "done with 1 lag (356)\n",
      "done with 2 lag (356)\n",
      "done with 3 lag (356)\n",
      "done with 6 lag (356)\n",
      "done with 11 lag (356)\n",
      "done with 22 lag (356)\n",
      "done with 33 lag (356)\n",
      "Done with Nick Young in 16.6\n",
      "done with 1 lag (172)\n",
      "done with 2 lag (172)\n",
      "done with 3 lag (172)\n",
      "done with 6 lag (172)\n",
      "done with 11 lag (172)\n",
      "done with 22 lag (172)\n",
      "done with 33 lag (172)\n",
      "Done with Steve Novak in 8.0\n",
      "done with 1 lag (567)\n",
      "done with 2 lag (567)\n",
      "done with 3 lag (567)\n",
      "done with 6 lag (567)\n",
      "done with 11 lag (567)\n",
      "done with 22 lag (567)\n",
      "done with 33 lag (567)\n",
      "Done with Kyle Korver in 26.5\n",
      "done with 1 lag (565)\n",
      "done with 2 lag (565)\n",
      "done with 3 lag (565)\n",
      "done with 6 lag (565)\n",
      "done with 11 lag (565)\n",
      "done with 22 lag (565)\n",
      "done with 33 lag (565)\n",
      "Done with DeAndre Jordan in 31.2\n",
      "done with 1 lag (104)\n",
      "done with 2 lag (104)\n",
      "done with 3 lag (104)\n",
      "done with 6 lag (104)\n",
      "done with 11 lag (104)\n",
      "done with 22 lag (104)\n",
      "done with 33 lag (104)\n",
      "Done with Austin Daye in 9.8\n",
      "done with 1 lag (446)\n",
      "done with 2 lag (446)\n",
      "done with 3 lag (446)\n"
     ]
    }
   ],
   "source": [
    "lags = [1,2,3,6,11,22,33]\n",
    "for player in players[20:30]:\n",
    "    now = time.time()\n",
    "    for lag in lags:\n",
    "        single = data[data['slug']==player]\n",
    "        lag_df = clnr.gameplay_stats(single,player_col = 'slug',lag = lag)\n",
    "        if len(lag_df)>0:\n",
    "            lag_df['id']= lag_df['date']+lag_df['slug']\n",
    "            lag_df['name']=slug_names[player]\n",
    "            for ind, elem in enumerate(lag_df.iloc[0,:]):\n",
    "                if (str(type(elem))==\"<class 'numpy.float64'>\"):\n",
    "                    lag_df.iloc[:,ind] = lag_df.iloc[:,ind].apply(lambda x : Decimal(x).quantize(Decimal('.001')))\n",
    "            dict_row = lag_df.iloc[0,:].to_dict()\n",
    "            key  = dict_row.pop('id')\n",
    "            ean = {\"#\"+key : key for key in dict_row.keys()}\n",
    "            ue = \"SET \" + ', '.join([\"#\"+key +\" = :\"+key for key in dict_row.keys()])\n",
    "            with table.batch_writer() as batch:\n",
    "                for row in lag_df.iterrows():\n",
    "                    dict_row = row[1].to_dict()\n",
    "                    key  = dict_row.pop('id')\n",
    "                    eav = {\":\"+key : dict_row[key] for key in dict_row.keys()}\n",
    "                    table.update_item(Key={'id':key},\n",
    "                             ExpressionAttributeNames = ean,\n",
    "                             ExpressionAttributeValues = eav,\n",
    "                             UpdateExpression = ue)\n",
    "        print(\"done with {} lag ({})\".format(lag,len(lag_df)))\n",
    "    print(\"Done with {} in {:.01f}\".format(slug_names[player],(time.time()-now)/60))\n",
    "            "
   ]
  },
  {
   "cell_type": "code",
   "execution_count": 162,
   "metadata": {},
   "outputs": [],
   "source": [
    "with table.batch_writer() as batch:\n",
    "    for row in lag.iterrows():\n",
    "        batch.put_item(Item = row[1].to_dict())"
   ]
  },
  {
   "cell_type": "code",
   "execution_count": 181,
   "metadata": {},
   "outputs": [],
   "source": [
    "dict_row = lag.iloc[0,:].to_dict()\n",
    "key  = dict_row.pop('id')\n",
    "ean = {\"#\"+key : key for key in dict_row.keys()}\n",
    "eav = {\":\"+key : dict_row[key] for key in dict_row.keys()}\n",
    "ue = \"SET \" + ', '.join([\"#\"+key +\" = :\"+key for key in dict_row.keys()])\n",
    "with table.batch_writer() as batch:\n",
    "    for row in lag.iterrows():\n",
    "        dict_row = row[1].to_dict()\n",
    "        key  = dict_row.pop('id')\n",
    "        #ean = {\"#\"+key : key for key in dict_row.keys()}\n",
    "        eav = {\":\"+key : dict_row[key] for key in dict_row.keys()}\n",
    "        #ue = \"SET \" + ', '.join([\"#\"+key +\" = :\"+key for key in dict_row.keys()])\n",
    "        table.update_item(Key={'id':key},\n",
    "                 ExpressionAttributeNames = ean,\n",
    "                 ExpressionAttributeValues = eav,\n",
    "                 UpdateExpression = ue)"
   ]
  },
  {
   "cell_type": "code",
   "execution_count": 180,
   "metadata": {
    "scrolled": true
   },
   "outputs": [
    {
     "ename": "ClientError",
     "evalue": "An error occurred (ValidationException) when calling the UpdateItem operation: Invalid UpdateExpression: An expression attribute value used in expression is not defined; attribute value: :w_06",
     "output_type": "error",
     "traceback": [
      "\u001b[0;31m---------------------------------------------------------------------------\u001b[0m",
      "\u001b[0;31mClientError\u001b[0m                               Traceback (most recent call last)",
      "\u001b[0;32m<ipython-input-180-93e2c824cc13>\u001b[0m in \u001b[0;36m<module>\u001b[0;34m\u001b[0m\n\u001b[1;32m      4\u001b[0m                  \u001b[0mExpressionAttributeNames\u001b[0m \u001b[0;34m=\u001b[0m \u001b[0mean\u001b[0m\u001b[0;34m,\u001b[0m\u001b[0;34m\u001b[0m\u001b[0;34m\u001b[0m\u001b[0m\n\u001b[1;32m      5\u001b[0m                  \u001b[0mExpressionAttributeValues\u001b[0m \u001b[0;34m=\u001b[0m \u001b[0meav\u001b[0m\u001b[0;34m,\u001b[0m\u001b[0;34m\u001b[0m\u001b[0;34m\u001b[0m\u001b[0m\n\u001b[0;32m----> 6\u001b[0;31m                  UpdateExpression = ue)\n\u001b[0m",
      "\u001b[0;32m~/anaconda3/lib/python3.7/site-packages/boto3/resources/factory.py\u001b[0m in \u001b[0;36mdo_action\u001b[0;34m(self, *args, **kwargs)\u001b[0m\n\u001b[1;32m    518\u001b[0m             \u001b[0;31m# instance via ``self``.\u001b[0m\u001b[0;34m\u001b[0m\u001b[0;34m\u001b[0m\u001b[0;34m\u001b[0m\u001b[0m\n\u001b[1;32m    519\u001b[0m             \u001b[0;32mdef\u001b[0m \u001b[0mdo_action\u001b[0m\u001b[0;34m(\u001b[0m\u001b[0mself\u001b[0m\u001b[0;34m,\u001b[0m \u001b[0;34m*\u001b[0m\u001b[0margs\u001b[0m\u001b[0;34m,\u001b[0m \u001b[0;34m**\u001b[0m\u001b[0mkwargs\u001b[0m\u001b[0;34m)\u001b[0m\u001b[0;34m:\u001b[0m\u001b[0;34m\u001b[0m\u001b[0;34m\u001b[0m\u001b[0m\n\u001b[0;32m--> 520\u001b[0;31m                 \u001b[0mresponse\u001b[0m \u001b[0;34m=\u001b[0m \u001b[0maction\u001b[0m\u001b[0;34m(\u001b[0m\u001b[0mself\u001b[0m\u001b[0;34m,\u001b[0m \u001b[0;34m*\u001b[0m\u001b[0margs\u001b[0m\u001b[0;34m,\u001b[0m \u001b[0;34m**\u001b[0m\u001b[0mkwargs\u001b[0m\u001b[0;34m)\u001b[0m\u001b[0;34m\u001b[0m\u001b[0;34m\u001b[0m\u001b[0m\n\u001b[0m\u001b[1;32m    521\u001b[0m \u001b[0;34m\u001b[0m\u001b[0m\n\u001b[1;32m    522\u001b[0m                 \u001b[0;32mif\u001b[0m \u001b[0mhasattr\u001b[0m\u001b[0;34m(\u001b[0m\u001b[0mself\u001b[0m\u001b[0;34m,\u001b[0m \u001b[0;34m'load'\u001b[0m\u001b[0;34m)\u001b[0m\u001b[0;34m:\u001b[0m\u001b[0;34m\u001b[0m\u001b[0;34m\u001b[0m\u001b[0m\n",
      "\u001b[0;32m~/anaconda3/lib/python3.7/site-packages/boto3/resources/action.py\u001b[0m in \u001b[0;36m__call__\u001b[0;34m(self, parent, *args, **kwargs)\u001b[0m\n\u001b[1;32m     81\u001b[0m                     operation_name, params)\n\u001b[1;32m     82\u001b[0m \u001b[0;34m\u001b[0m\u001b[0m\n\u001b[0;32m---> 83\u001b[0;31m         \u001b[0mresponse\u001b[0m \u001b[0;34m=\u001b[0m \u001b[0mgetattr\u001b[0m\u001b[0;34m(\u001b[0m\u001b[0mparent\u001b[0m\u001b[0;34m.\u001b[0m\u001b[0mmeta\u001b[0m\u001b[0;34m.\u001b[0m\u001b[0mclient\u001b[0m\u001b[0;34m,\u001b[0m \u001b[0moperation_name\u001b[0m\u001b[0;34m)\u001b[0m\u001b[0;34m(\u001b[0m\u001b[0;34m**\u001b[0m\u001b[0mparams\u001b[0m\u001b[0;34m)\u001b[0m\u001b[0;34m\u001b[0m\u001b[0;34m\u001b[0m\u001b[0m\n\u001b[0m\u001b[1;32m     84\u001b[0m \u001b[0;34m\u001b[0m\u001b[0m\n\u001b[1;32m     85\u001b[0m         \u001b[0mlogger\u001b[0m\u001b[0;34m.\u001b[0m\u001b[0mdebug\u001b[0m\u001b[0;34m(\u001b[0m\u001b[0;34m'Response: %r'\u001b[0m\u001b[0;34m,\u001b[0m \u001b[0mresponse\u001b[0m\u001b[0;34m)\u001b[0m\u001b[0;34m\u001b[0m\u001b[0;34m\u001b[0m\u001b[0m\n",
      "\u001b[0;32m~/anaconda3/lib/python3.7/site-packages/botocore/client.py\u001b[0m in \u001b[0;36m_api_call\u001b[0;34m(self, *args, **kwargs)\u001b[0m\n\u001b[1;32m    355\u001b[0m                     \"%s() only accepts keyword arguments.\" % py_operation_name)\n\u001b[1;32m    356\u001b[0m             \u001b[0;31m# The \"self\" in this scope is referring to the BaseClient.\u001b[0m\u001b[0;34m\u001b[0m\u001b[0;34m\u001b[0m\u001b[0;34m\u001b[0m\u001b[0m\n\u001b[0;32m--> 357\u001b[0;31m             \u001b[0;32mreturn\u001b[0m \u001b[0mself\u001b[0m\u001b[0;34m.\u001b[0m\u001b[0m_make_api_call\u001b[0m\u001b[0;34m(\u001b[0m\u001b[0moperation_name\u001b[0m\u001b[0;34m,\u001b[0m \u001b[0mkwargs\u001b[0m\u001b[0;34m)\u001b[0m\u001b[0;34m\u001b[0m\u001b[0;34m\u001b[0m\u001b[0m\n\u001b[0m\u001b[1;32m    358\u001b[0m \u001b[0;34m\u001b[0m\u001b[0m\n\u001b[1;32m    359\u001b[0m         \u001b[0m_api_call\u001b[0m\u001b[0;34m.\u001b[0m\u001b[0m__name__\u001b[0m \u001b[0;34m=\u001b[0m \u001b[0mstr\u001b[0m\u001b[0;34m(\u001b[0m\u001b[0mpy_operation_name\u001b[0m\u001b[0;34m)\u001b[0m\u001b[0;34m\u001b[0m\u001b[0;34m\u001b[0m\u001b[0m\n",
      "\u001b[0;32m~/anaconda3/lib/python3.7/site-packages/botocore/client.py\u001b[0m in \u001b[0;36m_make_api_call\u001b[0;34m(self, operation_name, api_params)\u001b[0m\n\u001b[1;32m    659\u001b[0m             \u001b[0merror_code\u001b[0m \u001b[0;34m=\u001b[0m \u001b[0mparsed_response\u001b[0m\u001b[0;34m.\u001b[0m\u001b[0mget\u001b[0m\u001b[0;34m(\u001b[0m\u001b[0;34m\"Error\"\u001b[0m\u001b[0;34m,\u001b[0m \u001b[0;34m{\u001b[0m\u001b[0;34m}\u001b[0m\u001b[0;34m)\u001b[0m\u001b[0;34m.\u001b[0m\u001b[0mget\u001b[0m\u001b[0;34m(\u001b[0m\u001b[0;34m\"Code\"\u001b[0m\u001b[0;34m)\u001b[0m\u001b[0;34m\u001b[0m\u001b[0;34m\u001b[0m\u001b[0m\n\u001b[1;32m    660\u001b[0m             \u001b[0merror_class\u001b[0m \u001b[0;34m=\u001b[0m \u001b[0mself\u001b[0m\u001b[0;34m.\u001b[0m\u001b[0mexceptions\u001b[0m\u001b[0;34m.\u001b[0m\u001b[0mfrom_code\u001b[0m\u001b[0;34m(\u001b[0m\u001b[0merror_code\u001b[0m\u001b[0;34m)\u001b[0m\u001b[0;34m\u001b[0m\u001b[0;34m\u001b[0m\u001b[0m\n\u001b[0;32m--> 661\u001b[0;31m             \u001b[0;32mraise\u001b[0m \u001b[0merror_class\u001b[0m\u001b[0;34m(\u001b[0m\u001b[0mparsed_response\u001b[0m\u001b[0;34m,\u001b[0m \u001b[0moperation_name\u001b[0m\u001b[0;34m)\u001b[0m\u001b[0;34m\u001b[0m\u001b[0;34m\u001b[0m\u001b[0m\n\u001b[0m\u001b[1;32m    662\u001b[0m         \u001b[0;32melse\u001b[0m\u001b[0;34m:\u001b[0m\u001b[0;34m\u001b[0m\u001b[0;34m\u001b[0m\u001b[0m\n\u001b[1;32m    663\u001b[0m             \u001b[0;32mreturn\u001b[0m \u001b[0mparsed_response\u001b[0m\u001b[0;34m\u001b[0m\u001b[0;34m\u001b[0m\u001b[0m\n",
      "\u001b[0;31mClientError\u001b[0m: An error occurred (ValidationException) when calling the UpdateItem operation: Invalid UpdateExpression: An expression attribute value used in expression is not defined; attribute value: :w_06"
     ]
    }
   ],
   "source": [
    "dict_row = lag.iloc[0,:].to_dict()\n",
    "key  = dict_row.pop('id')\n",
    "table.update_item(Key={'id':key},\n",
    "                 ExpressionAttributeNames = ean,\n",
    "                 ExpressionAttributeValues = eav,\n",
    "                 UpdateExpression = ue)"
   ]
  },
  {
   "cell_type": "code",
   "execution_count": 172,
   "metadata": {},
   "outputs": [],
   "source": [
    "ean = {\"#\"+key : key for key in dict_row.keys()}\n",
    "eav = {\":\"+key : dict_row[key] for key in dict_row.keys()}\n",
    "ue = \"SET \" + ', '.join([\"#\"+key +\" = :\"+key for key in dict_row.keys()])"
   ]
  },
  {
   "cell_type": "code",
   "execution_count": 175,
   "metadata": {},
   "outputs": [
    {
     "data": {
      "text/plain": [
       "'2016-01-01walljo01'"
      ]
     },
     "execution_count": 175,
     "metadata": {},
     "output_type": "execute_result"
    }
   ],
   "source": [
    "key"
   ]
  },
  {
   "cell_type": "code",
   "execution_count": 124,
   "metadata": {
    "scrolled": true
   },
   "outputs": [
    {
     "data": {
      "text/plain": [
       "{'Items': [{'slug': 'walljo01',\n",
       "   'date': '2016-01-28',\n",
       "   'minutes_06': Decimal('36.753')},\n",
       "  {'slug': 'walljo01', 'date': '2016-10-27', 'minutes_06': Decimal('35.158')},\n",
       "  {'slug': 'walljo01', 'date': '2016-02-06', 'minutes_06': Decimal('37.508')},\n",
       "  {'slug': 'walljo01', 'date': '2016-01-11', 'minutes_06': Decimal('36.642')},\n",
       "  {'slug': 'walljo01', 'date': '2016-10-30', 'minutes_06': Decimal('35.708')},\n",
       "  {'slug': 'walljo01', 'date': '2016-02-19', 'minutes_06': Decimal('37.758')},\n",
       "  {'slug': 'walljo01', 'date': '2016-01-26', 'minutes_06': Decimal('35.156')},\n",
       "  {'slug': 'walljo01', 'date': '2016-02-29', 'minutes_06': Decimal('34.475')},\n",
       "  {'slug': 'walljo01', 'date': '2016-03-12', 'minutes_06': Decimal('36.697')},\n",
       "  {'slug': 'walljo01', 'date': '2016-01-08', 'minutes_06': Decimal('37.487')},\n",
       "  {'slug': 'walljo01', 'date': '2016-01-01', 'minutes_06': Decimal('38.967')},\n",
       "  {'slug': 'walljo01', 'date': '2016-01-09', 'minutes_06': Decimal('37.023')},\n",
       "  {'slug': 'walljo01', 'date': '2016-01-18', 'minutes_06': Decimal('36.369')},\n",
       "  {'slug': 'walljo01', 'date': '2016-01-16', 'minutes_06': Decimal('36.542')},\n",
       "  {'slug': 'walljo01', 'date': '2016-03-23', 'minutes_06': Decimal('35.922')},\n",
       "  {'slug': 'walljo01', 'date': '2016-01-13', 'minutes_06': Decimal('36.392')},\n",
       "  {'slug': 'walljo01', 'date': '2016-01-20', 'minutes_06': Decimal('35.803')},\n",
       "  {'slug': 'walljo01', 'date': '2016-02-26', 'minutes_06': Decimal('34.078')},\n",
       "  {'slug': 'walljo01', 'date': '2016-03-19', 'minutes_06': Decimal('36.244')},\n",
       "  {'slug': 'walljo01', 'date': '2016-03-14', 'minutes_06': Decimal('35.025')},\n",
       "  {'slug': 'walljo01', 'date': '2016-02-18', 'minutes_06': Decimal('37.733')},\n",
       "  {'slug': 'walljo01', 'date': '2016-11-02', 'minutes_06': Decimal('36.222')},\n",
       "  {'slug': 'walljo01', 'date': '2016-03-08', 'minutes_06': Decimal('36.111')},\n",
       "  {'slug': 'walljo01', 'date': '2016-02-05', 'minutes_06': Decimal('36.828')},\n",
       "  {'slug': 'walljo01', 'date': '2016-03-16', 'minutes_06': Decimal('36.872')},\n",
       "  {'slug': 'walljo01', 'date': '2016-01-06', 'minutes_06': Decimal('37.794')},\n",
       "  {'slug': 'walljo01', 'date': '2016-11-04', 'minutes_06': Decimal('35.006')},\n",
       "  {'slug': 'walljo01', 'date': '2016-02-24', 'minutes_06': Decimal('34.553')},\n",
       "  {'slug': 'walljo01', 'date': '2016-04-03', 'minutes_06': Decimal('38.228')},\n",
       "  {'slug': 'walljo01', 'date': '2016-03-25', 'minutes_06': Decimal('39.408')},\n",
       "  {'slug': 'walljo01', 'date': '2016-03-11', 'minutes_06': Decimal('36.925')},\n",
       "  {'slug': 'walljo01', 'date': '2016-02-20', 'minutes_06': Decimal('37.808')},\n",
       "  {'slug': 'walljo01', 'date': '2016-03-17', 'minutes_06': Decimal('36.422')},\n",
       "  {'slug': 'walljo01', 'date': '2016-03-21', 'minutes_06': Decimal('36.528')},\n",
       "  {'slug': 'walljo01', 'date': '2016-03-30', 'minutes_06': Decimal('38.236')},\n",
       "  {'slug': 'walljo01', 'date': '2016-03-02', 'minutes_06': Decimal('35.219')},\n",
       "  {'slug': 'walljo01', 'date': '2016-01-15', 'minutes_06': Decimal('35.95')},\n",
       "  {'slug': 'walljo01', 'date': '2016-01-25', 'minutes_06': Decimal('35.475')},\n",
       "  {'slug': 'walljo01', 'date': '2016-03-04', 'minutes_06': Decimal('34.611')},\n",
       "  {'slug': 'walljo01', 'date': '2016-02-23', 'minutes_06': Decimal('36.472')},\n",
       "  {'slug': 'walljo01', 'date': '2016-03-27', 'minutes_06': Decimal('38.478')},\n",
       "  {'slug': 'walljo01', 'date': '2016-02-09', 'minutes_06': Decimal('37.878')},\n",
       "  {'slug': 'walljo01', 'date': '2016-02-28', 'minutes_06': Decimal('33.303')},\n",
       "  {'slug': 'walljo01', 'date': '2016-03-29', 'minutes_06': Decimal('38.075')},\n",
       "  {'slug': 'walljo01', 'date': '2016-02-03', 'minutes_06': Decimal('36.781')},\n",
       "  {'slug': 'walljo01', 'date': '2016-02-11', 'minutes_06': Decimal('38.892')},\n",
       "  {'slug': 'walljo01', 'date': '2016-04-01', 'minutes_06': Decimal('39.089')},\n",
       "  {'slug': 'walljo01', 'date': '2016-03-05', 'minutes_06': Decimal('35.889')},\n",
       "  {'slug': 'walljo01', 'date': '2016-01-03', 'minutes_06': Decimal('36.5')},\n",
       "  {'slug': 'walljo01', 'date': '2016-02-01', 'minutes_06': Decimal('36.286')},\n",
       "  {'slug': 'walljo01', 'date': '2016-01-30', 'minutes_06': Decimal('35.381')}],\n",
       " 'Count': 51,\n",
       " 'ScannedCount': 218,\n",
       " 'ResponseMetadata': {'RequestId': 'QRPN4591845JPP9745RBM51SVBVV4KQNSO5AEMVJF66Q9ASUAAJG',\n",
       "  'HTTPStatusCode': 200,\n",
       "  'HTTPHeaders': {'server': 'Server',\n",
       "   'date': 'Wed, 18 Sep 2019 18:05:08 GMT',\n",
       "   'content-type': 'application/x-amz-json-1.0',\n",
       "   'content-length': '4118',\n",
       "   'connection': 'keep-alive',\n",
       "   'x-amzn-requestid': 'QRPN4591845JPP9745RBM51SVBVV4KQNSO5AEMVJF66Q9ASUAAJG',\n",
       "   'x-amz-crc32': '1233907514'},\n",
       "  'RetryAttempts': 0}}"
      ]
     },
     "execution_count": 124,
     "metadata": {},
     "output_type": "execute_result"
    }
   ],
   "source": [
    "#lag['minutes_06'].apply(lambda x: Decimal(x))\n",
    "pe = \"slug, #dt, minutes_06\"\n",
    "fe = Key('date').lt('2016-11-07')\n",
    "ea = {\"#dt\":\"date\"}\n",
    "table.scan(ProjectionExpression = pe,ExpressionAttributeNames =ea, FilterExpression = fe)"
   ]
  },
  {
   "cell_type": "code",
   "execution_count": 160,
   "metadata": {},
   "outputs": [
    {
     "data": {
      "text/plain": [
       "{'slug': 'walljo01', 'date': '2016-01-18', 'minutes_06': Decimal('36.369')}"
      ]
     },
     "execution_count": 160,
     "metadata": {},
     "output_type": "execute_result"
    }
   ],
   "source": [
    "table.query(IndexName = 'slug-date-index', KeyConditionExpression = Key('slug').eq('walljo01') & Key('date').lt('2016-01-20'),\n",
    "            ExpressionAttributeNames =ea,\n",
    "            ProjectionExpression = pe,\n",
    "            ScanIndexForward = False,\n",
    "            Limit = 1\n",
    "    )['Items'][0]"
   ]
  },
  {
   "cell_type": "code",
   "execution_count": 141,
   "metadata": {},
   "outputs": [
    {
     "ename": "ParamValidationError",
     "evalue": "Parameter validation failed:\nMissing required parameter in input: \"Key\"\nUnknown parameter in input: \"IndexName\", must be one of: TableName, Key, AttributesToGet, ConsistentRead, ReturnConsumedCapacity, ProjectionExpression, ExpressionAttributeNames\nUnknown parameter in input: \"KeyConditionExpression\", must be one of: TableName, Key, AttributesToGet, ConsistentRead, ReturnConsumedCapacity, ProjectionExpression, ExpressionAttributeNames\nUnknown parameter in input: \"ScanIndexForward\", must be one of: TableName, Key, AttributesToGet, ConsistentRead, ReturnConsumedCapacity, ProjectionExpression, ExpressionAttributeNames",
     "output_type": "error",
     "traceback": [
      "\u001b[0;31m---------------------------------------------------------------------------\u001b[0m",
      "\u001b[0;31mParamValidationError\u001b[0m                      Traceback (most recent call last)",
      "\u001b[0;32m<ipython-input-141-41be485f2bd0>\u001b[0m in \u001b[0;36m<module>\u001b[0;34m\u001b[0m\n\u001b[1;32m      2\u001b[0m             \u001b[0mExpressionAttributeNames\u001b[0m \u001b[0;34m=\u001b[0m\u001b[0mea\u001b[0m\u001b[0;34m,\u001b[0m\u001b[0;34m\u001b[0m\u001b[0;34m\u001b[0m\u001b[0m\n\u001b[1;32m      3\u001b[0m             \u001b[0mProjectionExpression\u001b[0m \u001b[0;34m=\u001b[0m \u001b[0mpe\u001b[0m\u001b[0;34m,\u001b[0m\u001b[0;34m\u001b[0m\u001b[0;34m\u001b[0m\u001b[0m\n\u001b[0;32m----> 4\u001b[0;31m             \u001b[0mScanIndexForward\u001b[0m \u001b[0;34m=\u001b[0m \u001b[0;32mFalse\u001b[0m\u001b[0;34m\u001b[0m\u001b[0;34m\u001b[0m\u001b[0m\n\u001b[0m\u001b[1;32m      5\u001b[0m     )\n",
      "\u001b[0;32m~/anaconda3/lib/python3.7/site-packages/boto3/resources/factory.py\u001b[0m in \u001b[0;36mdo_action\u001b[0;34m(self, *args, **kwargs)\u001b[0m\n\u001b[1;32m    518\u001b[0m             \u001b[0;31m# instance via ``self``.\u001b[0m\u001b[0;34m\u001b[0m\u001b[0;34m\u001b[0m\u001b[0;34m\u001b[0m\u001b[0m\n\u001b[1;32m    519\u001b[0m             \u001b[0;32mdef\u001b[0m \u001b[0mdo_action\u001b[0m\u001b[0;34m(\u001b[0m\u001b[0mself\u001b[0m\u001b[0;34m,\u001b[0m \u001b[0;34m*\u001b[0m\u001b[0margs\u001b[0m\u001b[0;34m,\u001b[0m \u001b[0;34m**\u001b[0m\u001b[0mkwargs\u001b[0m\u001b[0;34m)\u001b[0m\u001b[0;34m:\u001b[0m\u001b[0;34m\u001b[0m\u001b[0;34m\u001b[0m\u001b[0m\n\u001b[0;32m--> 520\u001b[0;31m                 \u001b[0mresponse\u001b[0m \u001b[0;34m=\u001b[0m \u001b[0maction\u001b[0m\u001b[0;34m(\u001b[0m\u001b[0mself\u001b[0m\u001b[0;34m,\u001b[0m \u001b[0;34m*\u001b[0m\u001b[0margs\u001b[0m\u001b[0;34m,\u001b[0m \u001b[0;34m**\u001b[0m\u001b[0mkwargs\u001b[0m\u001b[0;34m)\u001b[0m\u001b[0;34m\u001b[0m\u001b[0;34m\u001b[0m\u001b[0m\n\u001b[0m\u001b[1;32m    521\u001b[0m \u001b[0;34m\u001b[0m\u001b[0m\n\u001b[1;32m    522\u001b[0m                 \u001b[0;32mif\u001b[0m \u001b[0mhasattr\u001b[0m\u001b[0;34m(\u001b[0m\u001b[0mself\u001b[0m\u001b[0;34m,\u001b[0m \u001b[0;34m'load'\u001b[0m\u001b[0;34m)\u001b[0m\u001b[0;34m:\u001b[0m\u001b[0;34m\u001b[0m\u001b[0;34m\u001b[0m\u001b[0m\n",
      "\u001b[0;32m~/anaconda3/lib/python3.7/site-packages/boto3/resources/action.py\u001b[0m in \u001b[0;36m__call__\u001b[0;34m(self, parent, *args, **kwargs)\u001b[0m\n\u001b[1;32m     81\u001b[0m                     operation_name, params)\n\u001b[1;32m     82\u001b[0m \u001b[0;34m\u001b[0m\u001b[0m\n\u001b[0;32m---> 83\u001b[0;31m         \u001b[0mresponse\u001b[0m \u001b[0;34m=\u001b[0m \u001b[0mgetattr\u001b[0m\u001b[0;34m(\u001b[0m\u001b[0mparent\u001b[0m\u001b[0;34m.\u001b[0m\u001b[0mmeta\u001b[0m\u001b[0;34m.\u001b[0m\u001b[0mclient\u001b[0m\u001b[0;34m,\u001b[0m \u001b[0moperation_name\u001b[0m\u001b[0;34m)\u001b[0m\u001b[0;34m(\u001b[0m\u001b[0;34m**\u001b[0m\u001b[0mparams\u001b[0m\u001b[0;34m)\u001b[0m\u001b[0;34m\u001b[0m\u001b[0;34m\u001b[0m\u001b[0m\n\u001b[0m\u001b[1;32m     84\u001b[0m \u001b[0;34m\u001b[0m\u001b[0m\n\u001b[1;32m     85\u001b[0m         \u001b[0mlogger\u001b[0m\u001b[0;34m.\u001b[0m\u001b[0mdebug\u001b[0m\u001b[0;34m(\u001b[0m\u001b[0;34m'Response: %r'\u001b[0m\u001b[0;34m,\u001b[0m \u001b[0mresponse\u001b[0m\u001b[0;34m)\u001b[0m\u001b[0;34m\u001b[0m\u001b[0;34m\u001b[0m\u001b[0m\n",
      "\u001b[0;32m~/anaconda3/lib/python3.7/site-packages/botocore/client.py\u001b[0m in \u001b[0;36m_api_call\u001b[0;34m(self, *args, **kwargs)\u001b[0m\n\u001b[1;32m    355\u001b[0m                     \"%s() only accepts keyword arguments.\" % py_operation_name)\n\u001b[1;32m    356\u001b[0m             \u001b[0;31m# The \"self\" in this scope is referring to the BaseClient.\u001b[0m\u001b[0;34m\u001b[0m\u001b[0;34m\u001b[0m\u001b[0;34m\u001b[0m\u001b[0m\n\u001b[0;32m--> 357\u001b[0;31m             \u001b[0;32mreturn\u001b[0m \u001b[0mself\u001b[0m\u001b[0;34m.\u001b[0m\u001b[0m_make_api_call\u001b[0m\u001b[0;34m(\u001b[0m\u001b[0moperation_name\u001b[0m\u001b[0;34m,\u001b[0m \u001b[0mkwargs\u001b[0m\u001b[0;34m)\u001b[0m\u001b[0;34m\u001b[0m\u001b[0;34m\u001b[0m\u001b[0m\n\u001b[0m\u001b[1;32m    358\u001b[0m \u001b[0;34m\u001b[0m\u001b[0m\n\u001b[1;32m    359\u001b[0m         \u001b[0m_api_call\u001b[0m\u001b[0;34m.\u001b[0m\u001b[0m__name__\u001b[0m \u001b[0;34m=\u001b[0m \u001b[0mstr\u001b[0m\u001b[0;34m(\u001b[0m\u001b[0mpy_operation_name\u001b[0m\u001b[0;34m)\u001b[0m\u001b[0;34m\u001b[0m\u001b[0;34m\u001b[0m\u001b[0m\n",
      "\u001b[0;32m~/anaconda3/lib/python3.7/site-packages/botocore/client.py\u001b[0m in \u001b[0;36m_make_api_call\u001b[0;34m(self, operation_name, api_params)\u001b[0m\n\u001b[1;32m    632\u001b[0m         }\n\u001b[1;32m    633\u001b[0m         request_dict = self._convert_to_request_dict(\n\u001b[0;32m--> 634\u001b[0;31m             api_params, operation_model, context=request_context)\n\u001b[0m\u001b[1;32m    635\u001b[0m \u001b[0;34m\u001b[0m\u001b[0m\n\u001b[1;32m    636\u001b[0m         \u001b[0mservice_id\u001b[0m \u001b[0;34m=\u001b[0m \u001b[0mself\u001b[0m\u001b[0;34m.\u001b[0m\u001b[0m_service_model\u001b[0m\u001b[0;34m.\u001b[0m\u001b[0mservice_id\u001b[0m\u001b[0;34m.\u001b[0m\u001b[0mhyphenize\u001b[0m\u001b[0;34m(\u001b[0m\u001b[0;34m)\u001b[0m\u001b[0;34m\u001b[0m\u001b[0;34m\u001b[0m\u001b[0m\n",
      "\u001b[0;32m~/anaconda3/lib/python3.7/site-packages/botocore/client.py\u001b[0m in \u001b[0;36m_convert_to_request_dict\u001b[0;34m(self, api_params, operation_model, context)\u001b[0m\n\u001b[1;32m    680\u001b[0m             api_params, operation_model, context)\n\u001b[1;32m    681\u001b[0m         request_dict = self._serializer.serialize_to_request(\n\u001b[0;32m--> 682\u001b[0;31m             api_params, operation_model)\n\u001b[0m\u001b[1;32m    683\u001b[0m         \u001b[0;32mif\u001b[0m \u001b[0;32mnot\u001b[0m \u001b[0mself\u001b[0m\u001b[0;34m.\u001b[0m\u001b[0m_client_config\u001b[0m\u001b[0;34m.\u001b[0m\u001b[0minject_host_prefix\u001b[0m\u001b[0;34m:\u001b[0m\u001b[0;34m\u001b[0m\u001b[0;34m\u001b[0m\u001b[0m\n\u001b[1;32m    684\u001b[0m             \u001b[0mrequest_dict\u001b[0m\u001b[0;34m.\u001b[0m\u001b[0mpop\u001b[0m\u001b[0;34m(\u001b[0m\u001b[0;34m'host_prefix'\u001b[0m\u001b[0;34m,\u001b[0m \u001b[0;32mNone\u001b[0m\u001b[0;34m)\u001b[0m\u001b[0;34m\u001b[0m\u001b[0;34m\u001b[0m\u001b[0m\n",
      "\u001b[0;32m~/anaconda3/lib/python3.7/site-packages/botocore/validate.py\u001b[0m in \u001b[0;36mserialize_to_request\u001b[0;34m(self, parameters, operation_model)\u001b[0m\n\u001b[1;32m    295\u001b[0m                                                     operation_model.input_shape)\n\u001b[1;32m    296\u001b[0m             \u001b[0;32mif\u001b[0m \u001b[0mreport\u001b[0m\u001b[0;34m.\u001b[0m\u001b[0mhas_errors\u001b[0m\u001b[0;34m(\u001b[0m\u001b[0;34m)\u001b[0m\u001b[0;34m:\u001b[0m\u001b[0;34m\u001b[0m\u001b[0;34m\u001b[0m\u001b[0m\n\u001b[0;32m--> 297\u001b[0;31m                 \u001b[0;32mraise\u001b[0m \u001b[0mParamValidationError\u001b[0m\u001b[0;34m(\u001b[0m\u001b[0mreport\u001b[0m\u001b[0;34m=\u001b[0m\u001b[0mreport\u001b[0m\u001b[0;34m.\u001b[0m\u001b[0mgenerate_report\u001b[0m\u001b[0;34m(\u001b[0m\u001b[0;34m)\u001b[0m\u001b[0;34m)\u001b[0m\u001b[0;34m\u001b[0m\u001b[0;34m\u001b[0m\u001b[0m\n\u001b[0m\u001b[1;32m    298\u001b[0m         return self._serializer.serialize_to_request(parameters,\n\u001b[1;32m    299\u001b[0m                                                      operation_model)\n",
      "\u001b[0;31mParamValidationError\u001b[0m: Parameter validation failed:\nMissing required parameter in input: \"Key\"\nUnknown parameter in input: \"IndexName\", must be one of: TableName, Key, AttributesToGet, ConsistentRead, ReturnConsumedCapacity, ProjectionExpression, ExpressionAttributeNames\nUnknown parameter in input: \"KeyConditionExpression\", must be one of: TableName, Key, AttributesToGet, ConsistentRead, ReturnConsumedCapacity, ProjectionExpression, ExpressionAttributeNames\nUnknown parameter in input: \"ScanIndexForward\", must be one of: TableName, Key, AttributesToGet, ConsistentRead, ReturnConsumedCapacity, ProjectionExpression, ExpressionAttributeNames"
     ]
    }
   ],
   "source": [
    "table.get_item(IndexName = 'slug-date-index', KeyConditionExpression = Key('slug').eq('walljo01') & Key('date').lt('2016-01-20'),\n",
    "            ExpressionAttributeNames =ea,\n",
    "            ProjectionExpression = pe,\n",
    "            ScanIndexForward = False,\n",
    "               \n",
    "    )"
   ]
  },
  {
   "cell_type": "code",
   "execution_count": 82,
   "metadata": {},
   "outputs": [
    {
     "data": {
      "text/html": [
       "<div>\n",
       "<style scoped>\n",
       "    .dataframe tbody tr th:only-of-type {\n",
       "        vertical-align: middle;\n",
       "    }\n",
       "\n",
       "    .dataframe tbody tr th {\n",
       "        vertical-align: top;\n",
       "    }\n",
       "\n",
       "    .dataframe thead th {\n",
       "        text-align: right;\n",
       "    }\n",
       "</style>\n",
       "<table border=\"1\" class=\"dataframe\">\n",
       "  <thead>\n",
       "    <tr style=\"text-align: right;\">\n",
       "      <th></th>\n",
       "      <th>slug</th>\n",
       "      <th>date</th>\n",
       "      <th>minutes_06</th>\n",
       "      <th>dk_score_06</th>\n",
       "      <th>dk_per_min_06</th>\n",
       "      <th>dk_no_fg_06</th>\n",
       "      <th>dk_no_fg_per_min_06</th>\n",
       "      <th>assists_06</th>\n",
       "      <th>assists_per_min_06</th>\n",
       "      <th>blocks_06</th>\n",
       "      <th>...</th>\n",
       "      <th>turnovers_per_min_06</th>\n",
       "      <th>doubles_06</th>\n",
       "      <th>fg_pct_06</th>\n",
       "      <th>ft_pct_06</th>\n",
       "      <th>two_pct_06</th>\n",
       "      <th>three_pct_06</th>\n",
       "      <th>game_score_06</th>\n",
       "      <th>attempted_field_goals_06</th>\n",
       "      <th>attempted_three_point_field_goals_06</th>\n",
       "      <th>w_06</th>\n",
       "    </tr>\n",
       "  </thead>\n",
       "  <tbody>\n",
       "    <tr>\n",
       "      <th>0</th>\n",
       "      <td>walljo01</td>\n",
       "      <td>1/1/2016</td>\n",
       "      <td>38.966667</td>\n",
       "      <td>51.000000</td>\n",
       "      <td>1.308811</td>\n",
       "      <td>27.000000</td>\n",
       "      <td>0.692900</td>\n",
       "      <td>13.000000</td>\n",
       "      <td>0.333618</td>\n",
       "      <td>1.0</td>\n",
       "      <td>...</td>\n",
       "      <td>0.128315</td>\n",
       "      <td>2.0</td>\n",
       "      <td>0.526316</td>\n",
       "      <td>1.000000</td>\n",
       "      <td>0.625000</td>\n",
       "      <td>0.000000</td>\n",
       "      <td>22.100000</td>\n",
       "      <td>19.000000</td>\n",
       "      <td>3.000000</td>\n",
       "      <td>1.000000</td>\n",
       "    </tr>\n",
       "    <tr>\n",
       "      <th>1</th>\n",
       "      <td>walljo01</td>\n",
       "      <td>1/10/2017</td>\n",
       "      <td>39.566667</td>\n",
       "      <td>54.500000</td>\n",
       "      <td>1.376397</td>\n",
       "      <td>29.250000</td>\n",
       "      <td>0.738566</td>\n",
       "      <td>13.500000</td>\n",
       "      <td>0.341083</td>\n",
       "      <td>1.0</td>\n",
       "      <td>...</td>\n",
       "      <td>0.126398</td>\n",
       "      <td>2.0</td>\n",
       "      <td>0.525063</td>\n",
       "      <td>0.875000</td>\n",
       "      <td>0.575658</td>\n",
       "      <td>0.250000</td>\n",
       "      <td>22.450000</td>\n",
       "      <td>20.000000</td>\n",
       "      <td>2.500000</td>\n",
       "      <td>1.000000</td>\n",
       "    </tr>\n",
       "    <tr>\n",
       "      <th>2</th>\n",
       "      <td>walljo01</td>\n",
       "      <td>1/10/2018</td>\n",
       "      <td>40.488889</td>\n",
       "      <td>58.333333</td>\n",
       "      <td>1.437283</td>\n",
       "      <td>29.333333</td>\n",
       "      <td>0.724661</td>\n",
       "      <td>12.666667</td>\n",
       "      <td>0.314003</td>\n",
       "      <td>1.0</td>\n",
       "      <td>...</td>\n",
       "      <td>0.147258</td>\n",
       "      <td>2.0</td>\n",
       "      <td>0.522881</td>\n",
       "      <td>0.773810</td>\n",
       "      <td>0.558375</td>\n",
       "      <td>0.333333</td>\n",
       "      <td>23.666667</td>\n",
       "      <td>22.333333</td>\n",
       "      <td>3.666667</td>\n",
       "      <td>0.666667</td>\n",
       "    </tr>\n",
       "    <tr>\n",
       "      <th>3</th>\n",
       "      <td>walljo01</td>\n",
       "      <td>1/11/2016</td>\n",
       "      <td>39.050000</td>\n",
       "      <td>55.687500</td>\n",
       "      <td>1.421652</td>\n",
       "      <td>29.437500</td>\n",
       "      <td>0.757627</td>\n",
       "      <td>12.000000</td>\n",
       "      <td>0.307479</td>\n",
       "      <td>1.0</td>\n",
       "      <td>...</td>\n",
       "      <td>0.124839</td>\n",
       "      <td>2.0</td>\n",
       "      <td>0.484266</td>\n",
       "      <td>0.830357</td>\n",
       "      <td>0.502115</td>\n",
       "      <td>0.375000</td>\n",
       "      <td>21.625000</td>\n",
       "      <td>21.500000</td>\n",
       "      <td>3.750000</td>\n",
       "      <td>0.750000</td>\n",
       "    </tr>\n",
       "    <tr>\n",
       "      <th>4</th>\n",
       "      <td>walljo01</td>\n",
       "      <td>1/11/2017</td>\n",
       "      <td>38.983333</td>\n",
       "      <td>52.900000</td>\n",
       "      <td>1.352991</td>\n",
       "      <td>30.100000</td>\n",
       "      <td>0.775280</td>\n",
       "      <td>11.800000</td>\n",
       "      <td>0.302806</td>\n",
       "      <td>1.0</td>\n",
       "      <td>...</td>\n",
       "      <td>0.105037</td>\n",
       "      <td>1.8</td>\n",
       "      <td>0.425508</td>\n",
       "      <td>0.764286</td>\n",
       "      <td>0.451692</td>\n",
       "      <td>0.300000</td>\n",
       "      <td>18.980000</td>\n",
       "      <td>21.400000</td>\n",
       "      <td>4.000000</td>\n",
       "      <td>0.600000</td>\n",
       "    </tr>\n",
       "  </tbody>\n",
       "</table>\n",
       "<p>5 rows × 24 columns</p>\n",
       "</div>"
      ],
      "text/plain": [
       "       slug       date  minutes_06  dk_score_06  dk_per_min_06  dk_no_fg_06  \\\n",
       "0  walljo01   1/1/2016   38.966667    51.000000       1.308811    27.000000   \n",
       "1  walljo01  1/10/2017   39.566667    54.500000       1.376397    29.250000   \n",
       "2  walljo01  1/10/2018   40.488889    58.333333       1.437283    29.333333   \n",
       "3  walljo01  1/11/2016   39.050000    55.687500       1.421652    29.437500   \n",
       "4  walljo01  1/11/2017   38.983333    52.900000       1.352991    30.100000   \n",
       "\n",
       "   dk_no_fg_per_min_06  assists_06  assists_per_min_06  blocks_06  ...  \\\n",
       "0             0.692900   13.000000            0.333618        1.0  ...   \n",
       "1             0.738566   13.500000            0.341083        1.0  ...   \n",
       "2             0.724661   12.666667            0.314003        1.0  ...   \n",
       "3             0.757627   12.000000            0.307479        1.0  ...   \n",
       "4             0.775280   11.800000            0.302806        1.0  ...   \n",
       "\n",
       "   turnovers_per_min_06  doubles_06  fg_pct_06  ft_pct_06  two_pct_06  \\\n",
       "0              0.128315         2.0   0.526316   1.000000    0.625000   \n",
       "1              0.126398         2.0   0.525063   0.875000    0.575658   \n",
       "2              0.147258         2.0   0.522881   0.773810    0.558375   \n",
       "3              0.124839         2.0   0.484266   0.830357    0.502115   \n",
       "4              0.105037         1.8   0.425508   0.764286    0.451692   \n",
       "\n",
       "   three_pct_06  game_score_06  attempted_field_goals_06  \\\n",
       "0      0.000000      22.100000                 19.000000   \n",
       "1      0.250000      22.450000                 20.000000   \n",
       "2      0.333333      23.666667                 22.333333   \n",
       "3      0.375000      21.625000                 21.500000   \n",
       "4      0.300000      18.980000                 21.400000   \n",
       "\n",
       "   attempted_three_point_field_goals_06      w_06  \n",
       "0                              3.000000  1.000000  \n",
       "1                              2.500000  1.000000  \n",
       "2                              3.666667  0.666667  \n",
       "3                              3.750000  0.750000  \n",
       "4                              4.000000  0.600000  \n",
       "\n",
       "[5 rows x 24 columns]"
      ]
     },
     "execution_count": 82,
     "metadata": {},
     "output_type": "execute_result"
    }
   ],
   "source": [
    "lag.head()"
   ]
  },
  {
   "cell_type": "code",
   "execution_count": 14,
   "metadata": {
    "scrolled": true
   },
   "outputs": [],
   "source": [
    "data.sort_values(by = 'date',inplace=True)"
   ]
  },
  {
   "cell_type": "code",
   "execution_count": null,
   "metadata": {},
   "outputs": [],
   "source": [
    "alpha = 0.3\n",
    "n = 561\n",
    "f2 = 'dk_score'\n",
    "combos = [(('dk_per_k','median'),('dk_per_k','mean')),\n",
    "          (('dk_per_k','median'),('dk_score','median')),\n",
    "          (('dk_per_k','median'),('salary','mean')),\n",
    "          (('salary','mean'),('dk_per_k','mean')),\n",
    "          #('salary','dk_per_k'),\n",
    "          #('minutes','dk_per_min'),\n",
    "          #('salary','dk_score'),\n",
    "          #('salary','minutes')\n",
    "          #('salary','dk_per_min'),\n",
    "          #('dk_score','dk_per_min')\n",
    "         ]\n",
    "fig, ax = plt.subplots(len(combos),1,figsize=(24,36))\n",
    "buckets = [get_n_scatter(summary,elem[0],elem[1],ax = ax[ind],alpha= alpha,n = n, s = 44) for ind,elem in enumerate(combos)]\n",
    "#buckets = get_n_scatter(data,f1,f2,ax = ax[0], alpha , n )\n",
    "plt.show()"
   ]
  }
 ],
 "metadata": {
  "kernelspec": {
   "display_name": "Python 3",
   "language": "python",
   "name": "python3"
  },
  "language_info": {
   "codemirror_mode": {
    "name": "ipython",
    "version": 3
   },
   "file_extension": ".py",
   "mimetype": "text/x-python",
   "name": "python",
   "nbconvert_exporter": "python",
   "pygments_lexer": "ipython3",
   "version": "3.7.3"
  }
 },
 "nbformat": 4,
 "nbformat_minor": 2
}
